{
 "cells": [
  {
   "cell_type": "markdown",
   "metadata": {},
   "source": [
    "# HistGradientBoostingRegressor"
   ]
  },
  {
   "cell_type": "markdown",
   "metadata": {},
   "source": [
    "## Importing the corresponding libraries"
   ]
  },
  {
   "cell_type": "code",
   "execution_count": 1,
   "metadata": {},
   "outputs": [],
   "source": [
    "%matplotlib inline\n",
    "import numpy as np\n",
    "import pandas as pd\n",
    "import seaborn as sns\n",
    "import matplotlib.pyplot as plt\n",
    "from sklearn.model_selection import train_test_split\n",
    "from sklearn.ensemble import RandomForestRegressor\n",
    "from sklearn.feature_selection import RFECV\n",
    "from sklearn.metrics import mean_squared_error\n",
    "from sklearn.metrics import mean_squared_log_error\n",
    "from sklearn.metrics import mean_absolute_error\n",
    "from sklearn.metrics import r2_score\n",
    "from sklearn.svm import SVR\n",
    "from sklearn.experimental import enable_hist_gradient_boosting \n",
    "from sklearn.ensemble import HistGradientBoostingRegressor\n",
    "from sklearn.model_selection import cross_val_predict\n",
    "\n"
   ]
  },
  {
   "cell_type": "code",
   "execution_count": 2,
   "metadata": {},
   "outputs": [
    {
     "data": {
      "text/html": [
       "<div>\n",
       "<style scoped>\n",
       "    .dataframe tbody tr th:only-of-type {\n",
       "        vertical-align: middle;\n",
       "    }\n",
       "\n",
       "    .dataframe tbody tr th {\n",
       "        vertical-align: top;\n",
       "    }\n",
       "\n",
       "    .dataframe thead th {\n",
       "        text-align: right;\n",
       "    }\n",
       "</style>\n",
       "<table border=\"1\" class=\"dataframe\">\n",
       "  <thead>\n",
       "    <tr style=\"text-align: right;\">\n",
       "      <th></th>\n",
       "      <th>id</th>\n",
       "      <th>carat</th>\n",
       "      <th>cut</th>\n",
       "      <th>color</th>\n",
       "      <th>clarity</th>\n",
       "      <th>depth</th>\n",
       "      <th>table</th>\n",
       "      <th>x</th>\n",
       "      <th>y</th>\n",
       "      <th>z</th>\n",
       "      <th>price</th>\n",
       "    </tr>\n",
       "  </thead>\n",
       "  <tbody>\n",
       "    <tr>\n",
       "      <th>0</th>\n",
       "      <td>0</td>\n",
       "      <td>0.78</td>\n",
       "      <td>Premium</td>\n",
       "      <td>F</td>\n",
       "      <td>VS1</td>\n",
       "      <td>61.5</td>\n",
       "      <td>58.0</td>\n",
       "      <td>5.93</td>\n",
       "      <td>5.98</td>\n",
       "      <td>3.66</td>\n",
       "      <td>3446</td>\n",
       "    </tr>\n",
       "    <tr>\n",
       "      <th>1</th>\n",
       "      <td>1</td>\n",
       "      <td>0.31</td>\n",
       "      <td>Ideal</td>\n",
       "      <td>D</td>\n",
       "      <td>SI1</td>\n",
       "      <td>60.8</td>\n",
       "      <td>56.0</td>\n",
       "      <td>4.37</td>\n",
       "      <td>4.32</td>\n",
       "      <td>2.64</td>\n",
       "      <td>732</td>\n",
       "    </tr>\n",
       "    <tr>\n",
       "      <th>2</th>\n",
       "      <td>2</td>\n",
       "      <td>0.30</td>\n",
       "      <td>Ideal</td>\n",
       "      <td>F</td>\n",
       "      <td>SI1</td>\n",
       "      <td>62.3</td>\n",
       "      <td>54.0</td>\n",
       "      <td>4.30</td>\n",
       "      <td>4.34</td>\n",
       "      <td>2.69</td>\n",
       "      <td>475</td>\n",
       "    </tr>\n",
       "    <tr>\n",
       "      <th>3</th>\n",
       "      <td>3</td>\n",
       "      <td>1.04</td>\n",
       "      <td>Ideal</td>\n",
       "      <td>E</td>\n",
       "      <td>VVS2</td>\n",
       "      <td>62.0</td>\n",
       "      <td>58.0</td>\n",
       "      <td>6.54</td>\n",
       "      <td>6.46</td>\n",
       "      <td>4.03</td>\n",
       "      <td>9552</td>\n",
       "    </tr>\n",
       "    <tr>\n",
       "      <th>4</th>\n",
       "      <td>4</td>\n",
       "      <td>0.65</td>\n",
       "      <td>Ideal</td>\n",
       "      <td>J</td>\n",
       "      <td>SI1</td>\n",
       "      <td>61.4</td>\n",
       "      <td>55.0</td>\n",
       "      <td>5.58</td>\n",
       "      <td>5.62</td>\n",
       "      <td>3.44</td>\n",
       "      <td>1276</td>\n",
       "    </tr>\n",
       "  </tbody>\n",
       "</table>\n",
       "</div>"
      ],
      "text/plain": [
       "   id  carat      cut color clarity  depth  table     x     y     z  price\n",
       "0   0   0.78  Premium     F     VS1   61.5   58.0  5.93  5.98  3.66   3446\n",
       "1   1   0.31    Ideal     D     SI1   60.8   56.0  4.37  4.32  2.64    732\n",
       "2   2   0.30    Ideal     F     SI1   62.3   54.0  4.30  4.34  2.69    475\n",
       "3   3   1.04    Ideal     E    VVS2   62.0   58.0  6.54  6.46  4.03   9552\n",
       "4   4   0.65    Ideal     J     SI1   61.4   55.0  5.58  5.62  3.44   1276"
      ]
     },
     "execution_count": 2,
     "metadata": {},
     "output_type": "execute_result"
    }
   ],
   "source": [
    "#Importing the csv to Jupyter Notebook\n",
    "training_df = pd.read_csv(\"../input/diamonds-datamad0120/diamonds_train.csv\")\n",
    "training_df.head()"
   ]
  },
  {
   "cell_type": "markdown",
   "metadata": {},
   "source": [
    "# Correlation table (Raw Data)"
   ]
  },
  {
   "cell_type": "code",
   "execution_count": 3,
   "metadata": {},
   "outputs": [
    {
     "data": {
      "image/png": "[encoded data removed]",
      "text/plain": [
       "<Figure size 792x648 with 2 Axes>"
      ]
     },
     "metadata": {
      "needs_background": "light"
     },
     "output_type": "display_data"
    }
   ],
   "source": [
    "corr = training_df.corr()\n",
    "mask = np.triu(np.ones_like(corr, dtype=np.bool))\n",
    "f, ax = plt.subplots(figsize=(11, 9))\n",
    "cmap = sns.diverging_palette(220, 10, as_cmap=True)\n",
    "sns.heatmap(corr, mask=mask, cmap=cmap, vmax=.3, center=0,\n",
    "            square=True, linewidths=.5, cbar_kws={\"shrink\": .5}, annot=True);"
   ]
  },
  {
   "cell_type": "markdown",
   "metadata": {},
   "source": [
    "# Cleaning Data"
   ]
  },
  {
   "cell_type": "markdown",
   "metadata": {},
   "source": [
    "### Column 'color'"
   ]
  },
  {
   "cell_type": "code",
   "execution_count": 4,
   "metadata": {},
   "outputs": [
    {
     "name": "stdout",
     "output_type": "stream",
     "text": [
      "The value 'J' now is 0\n",
      "The value 'I' now is 1\n",
      "The value 'H' now is 2\n",
      "The value 'G' now is 3\n",
      "The value 'F' now is 4\n",
      "The value 'E' now is 5\n",
      "The value 'D' now is 6\n"
     ]
    }
   ],
   "source": [
    "# Replacing all the values in order to get the importance for each value \n",
    "color_column = ['J','I','H','G','F','E','D']\n",
    "for x,y in enumerate(color_column):\n",
    "    print(f\"The value '{y}' now is {x}\")\n",
    "    training_df['color'] = training_df['color'].replace(y, x)"
   ]
  },
  {
   "cell_type": "markdown",
   "metadata": {},
   "source": [
    "### Column 'clarity'"
   ]
  },
  {
   "cell_type": "code",
   "execution_count": 5,
   "metadata": {},
   "outputs": [
    {
     "name": "stdout",
     "output_type": "stream",
     "text": [
      "The value 'I1' now is 0\n",
      "The value 'SI2' now is 1\n",
      "The value 'SI1' now is 2\n",
      "The value 'VS2' now is 3\n",
      "The value 'VS1' now is 4\n",
      "The value 'VVS2' now is 5\n",
      "The value 'VVS1' now is 6\n",
      "The value 'IF' now is 7\n"
     ]
    }
   ],
   "source": [
    "# clarity: a measurement of how clear the diamond is (I1 (worst), SI2, SI1, VS2, VS1, VVS2, VVS1, IF (best))\n",
    "clarity_column = ['I1', 'SI2', 'SI1', 'VS2', 'VS1', 'VVS2', 'VVS1', 'IF']\n",
    "# Replacing all the values in order to get the importance for each value \n",
    "for x,y in enumerate(clarity_column):\n",
    "    print(f\"The value '{y}' now is {x}\")\n",
    "    \n",
    "    training_df['clarity'] = training_df['clarity'].replace(y, x)"
   ]
  },
  {
   "cell_type": "code",
   "execution_count": 6,
   "metadata": {},
   "outputs": [
    {
     "data": {
      "text/html": [
       "<div>\n",
       "<style scoped>\n",
       "    .dataframe tbody tr th:only-of-type {\n",
       "        vertical-align: middle;\n",
       "    }\n",
       "\n",
       "    .dataframe tbody tr th {\n",
       "        vertical-align: top;\n",
       "    }\n",
       "\n",
       "    .dataframe thead th {\n",
       "        text-align: right;\n",
       "    }\n",
       "</style>\n",
       "<table border=\"1\" class=\"dataframe\">\n",
       "  <thead>\n",
       "    <tr style=\"text-align: right;\">\n",
       "      <th></th>\n",
       "      <th>id</th>\n",
       "      <th>carat</th>\n",
       "      <th>color</th>\n",
       "      <th>clarity</th>\n",
       "      <th>depth</th>\n",
       "      <th>table</th>\n",
       "      <th>x</th>\n",
       "      <th>y</th>\n",
       "      <th>z</th>\n",
       "      <th>price</th>\n",
       "      <th>cut_Fair</th>\n",
       "      <th>cut_Good</th>\n",
       "      <th>cut_Ideal</th>\n",
       "      <th>cut_Premium</th>\n",
       "      <th>cut_Very Good</th>\n",
       "    </tr>\n",
       "  </thead>\n",
       "  <tbody>\n",
       "    <tr>\n",
       "      <th>0</th>\n",
       "      <td>0</td>\n",
       "      <td>0.78</td>\n",
       "      <td>4</td>\n",
       "      <td>4</td>\n",
       "      <td>61.5</td>\n",
       "      <td>58.0</td>\n",
       "      <td>5.93</td>\n",
       "      <td>5.98</td>\n",
       "      <td>3.66</td>\n",
       "      <td>3446</td>\n",
       "      <td>0</td>\n",
       "      <td>0</td>\n",
       "      <td>0</td>\n",
       "      <td>1</td>\n",
       "      <td>0</td>\n",
       "    </tr>\n",
       "    <tr>\n",
       "      <th>1</th>\n",
       "      <td>1</td>\n",
       "      <td>0.31</td>\n",
       "      <td>6</td>\n",
       "      <td>2</td>\n",
       "      <td>60.8</td>\n",
       "      <td>56.0</td>\n",
       "      <td>4.37</td>\n",
       "      <td>4.32</td>\n",
       "      <td>2.64</td>\n",
       "      <td>732</td>\n",
       "      <td>0</td>\n",
       "      <td>0</td>\n",
       "      <td>1</td>\n",
       "      <td>0</td>\n",
       "      <td>0</td>\n",
       "    </tr>\n",
       "    <tr>\n",
       "      <th>2</th>\n",
       "      <td>2</td>\n",
       "      <td>0.30</td>\n",
       "      <td>4</td>\n",
       "      <td>2</td>\n",
       "      <td>62.3</td>\n",
       "      <td>54.0</td>\n",
       "      <td>4.30</td>\n",
       "      <td>4.34</td>\n",
       "      <td>2.69</td>\n",
       "      <td>475</td>\n",
       "      <td>0</td>\n",
       "      <td>0</td>\n",
       "      <td>1</td>\n",
       "      <td>0</td>\n",
       "      <td>0</td>\n",
       "    </tr>\n",
       "    <tr>\n",
       "      <th>3</th>\n",
       "      <td>3</td>\n",
       "      <td>1.04</td>\n",
       "      <td>5</td>\n",
       "      <td>5</td>\n",
       "      <td>62.0</td>\n",
       "      <td>58.0</td>\n",
       "      <td>6.54</td>\n",
       "      <td>6.46</td>\n",
       "      <td>4.03</td>\n",
       "      <td>9552</td>\n",
       "      <td>0</td>\n",
       "      <td>0</td>\n",
       "      <td>1</td>\n",
       "      <td>0</td>\n",
       "      <td>0</td>\n",
       "    </tr>\n",
       "    <tr>\n",
       "      <th>4</th>\n",
       "      <td>4</td>\n",
       "      <td>0.65</td>\n",
       "      <td>0</td>\n",
       "      <td>2</td>\n",
       "      <td>61.4</td>\n",
       "      <td>55.0</td>\n",
       "      <td>5.58</td>\n",
       "      <td>5.62</td>\n",
       "      <td>3.44</td>\n",
       "      <td>1276</td>\n",
       "      <td>0</td>\n",
       "      <td>0</td>\n",
       "      <td>1</td>\n",
       "      <td>0</td>\n",
       "      <td>0</td>\n",
       "    </tr>\n",
       "  </tbody>\n",
       "</table>\n",
       "</div>"
      ],
      "text/plain": [
       "   id  carat  color  clarity  depth  table     x     y     z  price  cut_Fair  \\\n",
       "0   0   0.78      4        4   61.5   58.0  5.93  5.98  3.66   3446         0   \n",
       "1   1   0.31      6        2   60.8   56.0  4.37  4.32  2.64    732         0   \n",
       "2   2   0.30      4        2   62.3   54.0  4.30  4.34  2.69    475         0   \n",
       "3   3   1.04      5        5   62.0   58.0  6.54  6.46  4.03   9552         0   \n",
       "4   4   0.65      0        2   61.4   55.0  5.58  5.62  3.44   1276         0   \n",
       "\n",
       "   cut_Good  cut_Ideal  cut_Premium  cut_Very Good  \n",
       "0         0          0            1              0  \n",
       "1         0          1            0              0  \n",
       "2         0          1            0              0  \n",
       "3         0          1            0              0  \n",
       "4         0          1            0              0  "
      ]
     },
     "execution_count": 6,
     "metadata": {},
     "output_type": "execute_result"
    }
   ],
   "source": [
    "diamonds_new = pd.get_dummies(training_df)\n",
    "diamonds_new.head()"
   ]
  },
  {
   "cell_type": "code",
   "execution_count": 7,
   "metadata": {},
   "outputs": [],
   "source": [
    "X = diamonds_new.drop(columns=['id','x','y','z','price'])\n",
    "y = diamonds_new['price']"
   ]
  },
  {
   "cell_type": "code",
   "execution_count": 8,
   "metadata": {},
   "outputs": [],
   "source": [
    "X_train, X_test, y_train, y_test = train_test_split(X, y, test_size=0.2)"
   ]
  },
  {
   "cell_type": "code",
   "execution_count": 9,
   "metadata": {},
   "outputs": [
    {
     "data": {
      "text/plain": [
       "HistGradientBoostingRegressor(l2_regularization=0.0, learning_rate=0.1,\n",
       "                              loss='least_squares', max_bins=255,\n",
       "                              max_depth=None, max_iter=100, max_leaf_nodes=31,\n",
       "                              min_samples_leaf=20, n_iter_no_change=None,\n",
       "                              random_state=None, scoring=None, tol=1e-07,\n",
       "                              validation_fraction=0.1, verbose=0,\n",
       "                              warm_start=False)"
      ]
     },
     "execution_count": 9,
     "metadata": {},
     "output_type": "execute_result"
    }
   ],
   "source": [
    "regressor = HistGradientBoostingRegressor()\n",
    "regressor.fit(X_train, y_train)"
   ]
  },
  {
   "cell_type": "code",
   "execution_count": 10,
   "metadata": {},
   "outputs": [
    {
     "name": "stdout",
     "output_type": "stream",
     "text": [
      "0.9854337625287518\n",
      "0.9782117326625496\n"
     ]
    }
   ],
   "source": [
    "print(regressor.score(X_train, y_train))\n",
    "print(regressor.score(X_test, y_test))"
   ]
  },
  {
   "cell_type": "code",
   "execution_count": 11,
   "metadata": {},
   "outputs": [
    {
     "name": "stdout",
     "output_type": "stream",
     "text": [
      "*** METRIC SUMMARY ***\n",
      "MSE 346705.0176507872\n",
      "RMSE 588.8166248084264\n",
      "MAE 298.0478482714923\n",
      "R2 0.9782117326625496\n"
     ]
    }
   ],
   "source": [
    "print('*** METRIC SUMMARY ***')\n",
    "print('MSE', mean_squared_error(y_test, regressor.predict(X_test)))\n",
    "print('RMSE', np.sqrt(mean_squared_error(y_test, regressor.predict(X_test))))\n",
    "print('MAE', mean_absolute_error(y_test, regressor.predict(X_test)))\n",
    "print('R2', r2_score(y_test, regressor.predict(X_test)))"
   ]
  },
  {
   "cell_type": "code",
   "execution_count": 12,
   "metadata": {},
   "outputs": [],
   "source": [
    "y_pred = regressor.predict(X_test)"
   ]
  },
  {
   "cell_type": "markdown",
   "metadata": {},
   "source": [
    "# Visualización de Datos"
   ]
  },
  {
   "cell_type": "code",
   "execution_count": 13,
   "metadata": {},
   "outputs": [
    {
     "data": {
      "image/png": "[encoded data removed]",
      "text/plain": [
       "<Figure size 720x720 with 1 Axes>"
      ]
     },
     "metadata": {
      "needs_background": "light"
     },
     "output_type": "display_data"
    }
   ],
   "source": [
    "fig, ax = plt.subplots(figsize=(10,10))\n",
    "ax.scatter(y_test, y_pred, edgecolors='yellow')\n",
    "ax.plot([y_test.min(), y_test.max()], [y_test.min(), y_test.max()], 'k--', lw=4)\n",
    "ax.set_xlabel('Test')\n",
    "ax.set_ylabel('Predicted')\n",
    "ax.set_title(\"Tested vs Predicted\")\n",
    "plt.show()"
   ]
  },
  {
   "cell_type": "markdown",
   "metadata": {},
   "source": [
    "### Repetir los pasos con el 100% de los datos"
   ]
  },
  {
   "cell_type": "code",
   "execution_count": 14,
   "metadata": {},
   "outputs": [
    {
     "data": {
      "text/plain": [
       "HistGradientBoostingRegressor(l2_regularization=0.0, learning_rate=0.1,\n",
       "                              loss='least_squares', max_bins=255,\n",
       "                              max_depth=None, max_iter=100, max_leaf_nodes=31,\n",
       "                              min_samples_leaf=20, n_iter_no_change=None,\n",
       "                              random_state=None, scoring=None, tol=1e-07,\n",
       "                              validation_fraction=0.1, verbose=0,\n",
       "                              warm_start=False)"
      ]
     },
     "execution_count": 14,
     "metadata": {},
     "output_type": "execute_result"
    }
   ],
   "source": [
    "regressor.fit(X, y)"
   ]
  },
  {
   "cell_type": "markdown",
   "metadata": {},
   "source": [
    "### Importamos el test"
   ]
  },
  {
   "cell_type": "code",
   "execution_count": 15,
   "metadata": {},
   "outputs": [
    {
     "data": {
      "text/html": [
       "<div>\n",
       "<style scoped>\n",
       "    .dataframe tbody tr th:only-of-type {\n",
       "        vertical-align: middle;\n",
       "    }\n",
       "\n",
       "    .dataframe tbody tr th {\n",
       "        vertical-align: top;\n",
       "    }\n",
       "\n",
       "    .dataframe thead th {\n",
       "        text-align: right;\n",
       "    }\n",
       "</style>\n",
       "<table border=\"1\" class=\"dataframe\">\n",
       "  <thead>\n",
       "    <tr style=\"text-align: right;\">\n",
       "      <th></th>\n",
       "      <th>id</th>\n",
       "      <th>carat</th>\n",
       "      <th>cut</th>\n",
       "      <th>color</th>\n",
       "      <th>clarity</th>\n",
       "      <th>depth</th>\n",
       "      <th>table</th>\n",
       "      <th>x</th>\n",
       "      <th>y</th>\n",
       "      <th>z</th>\n",
       "    </tr>\n",
       "  </thead>\n",
       "  <tbody>\n",
       "    <tr>\n",
       "      <th>0</th>\n",
       "      <td>0</td>\n",
       "      <td>1.10</td>\n",
       "      <td>Premium</td>\n",
       "      <td>H</td>\n",
       "      <td>SI2</td>\n",
       "      <td>62.2</td>\n",
       "      <td>58.0</td>\n",
       "      <td>6.69</td>\n",
       "      <td>6.60</td>\n",
       "      <td>4.13</td>\n",
       "    </tr>\n",
       "    <tr>\n",
       "      <th>1</th>\n",
       "      <td>1</td>\n",
       "      <td>0.51</td>\n",
       "      <td>Ideal</td>\n",
       "      <td>I</td>\n",
       "      <td>SI1</td>\n",
       "      <td>62.5</td>\n",
       "      <td>57.0</td>\n",
       "      <td>5.07</td>\n",
       "      <td>5.10</td>\n",
       "      <td>3.18</td>\n",
       "    </tr>\n",
       "    <tr>\n",
       "      <th>2</th>\n",
       "      <td>2</td>\n",
       "      <td>2.03</td>\n",
       "      <td>Premium</td>\n",
       "      <td>G</td>\n",
       "      <td>SI1</td>\n",
       "      <td>61.9</td>\n",
       "      <td>59.0</td>\n",
       "      <td>8.14</td>\n",
       "      <td>8.09</td>\n",
       "      <td>5.02</td>\n",
       "    </tr>\n",
       "    <tr>\n",
       "      <th>3</th>\n",
       "      <td>3</td>\n",
       "      <td>1.21</td>\n",
       "      <td>Premium</td>\n",
       "      <td>F</td>\n",
       "      <td>SI1</td>\n",
       "      <td>60.0</td>\n",
       "      <td>60.0</td>\n",
       "      <td>6.96</td>\n",
       "      <td>6.91</td>\n",
       "      <td>4.16</td>\n",
       "    </tr>\n",
       "    <tr>\n",
       "      <th>4</th>\n",
       "      <td>4</td>\n",
       "      <td>0.55</td>\n",
       "      <td>Ideal</td>\n",
       "      <td>F</td>\n",
       "      <td>SI1</td>\n",
       "      <td>61.8</td>\n",
       "      <td>55.0</td>\n",
       "      <td>5.27</td>\n",
       "      <td>5.22</td>\n",
       "      <td>3.24</td>\n",
       "    </tr>\n",
       "  </tbody>\n",
       "</table>\n",
       "</div>"
      ],
      "text/plain": [
       "   id  carat      cut color clarity  depth  table     x     y     z\n",
       "0   0   1.10  Premium     H     SI2   62.2   58.0  6.69  6.60  4.13\n",
       "1   1   0.51    Ideal     I     SI1   62.5   57.0  5.07  5.10  3.18\n",
       "2   2   2.03  Premium     G     SI1   61.9   59.0  8.14  8.09  5.02\n",
       "3   3   1.21  Premium     F     SI1   60.0   60.0  6.96  6.91  4.16\n",
       "4   4   0.55    Ideal     F     SI1   61.8   55.0  5.27  5.22  3.24"
      ]
     },
     "execution_count": 15,
     "metadata": {},
     "output_type": "execute_result"
    }
   ],
   "source": [
    "#Importing the csv to Jupyter Notebook\n",
    "test_df = pd.read_csv(\"../input/diamonds-datamad0120/diamonds_test.csv\")\n",
    "test_df.head()"
   ]
  },
  {
   "cell_type": "markdown",
   "metadata": {},
   "source": [
    "### Repetir la limpieza que hemos hecho antes de entrenar el modelo"
   ]
  },
  {
   "cell_type": "markdown",
   "metadata": {},
   "source": [
    "### Column 'color'"
   ]
  },
  {
   "cell_type": "code",
   "execution_count": 16,
   "metadata": {},
   "outputs": [
    {
     "name": "stdout",
     "output_type": "stream",
     "text": [
      "The value 'J' now is 0\n",
      "The value 'I' now is 1\n",
      "The value 'H' now is 2\n",
      "The value 'G' now is 3\n",
      "The value 'F' now is 4\n",
      "The value 'E' now is 5\n",
      "The value 'D' now is 6\n"
     ]
    }
   ],
   "source": [
    "# Replacing all the values in order to get the importance for each value \n",
    "color_column = ['J','I','H','G','F','E','D']\n",
    "for x,y in enumerate(color_column):\n",
    "    print(f\"The value '{y}' now is {x}\")\n",
    "    test_df['color'] = test_df['color'].replace(y, x)"
   ]
  },
  {
   "cell_type": "markdown",
   "metadata": {},
   "source": [
    "### Column 'clarity'"
   ]
  },
  {
   "cell_type": "code",
   "execution_count": 17,
   "metadata": {},
   "outputs": [
    {
     "name": "stdout",
     "output_type": "stream",
     "text": [
      "The value 'I1' now is 0\n",
      "The value 'SI2' now is 1\n",
      "The value 'SI1' now is 2\n",
      "The value 'VS2' now is 3\n",
      "The value 'VS1' now is 4\n",
      "The value 'VVS2' now is 5\n",
      "The value 'VVS1' now is 6\n",
      "The value 'IF' now is 7\n"
     ]
    }
   ],
   "source": [
    "# clarity: a measurement of how clear the diamond is (I1 (worst), SI2, SI1, VS2, VS1, VVS2, VVS1, IF (best))\n",
    "clarity_column = ['I1', 'SI2', 'SI1', 'VS2', 'VS1', 'VVS2', 'VVS1', 'IF']\n",
    "# Replacing all the values in order to get the importance for each value \n",
    "for x,y in enumerate(clarity_column):\n",
    "    print(f\"The value '{y}' now is {x}\")\n",
    "    test_df['clarity'] = test_df['clarity'].replace(y, x)"
   ]
  },
  {
   "cell_type": "code",
   "execution_count": 18,
   "metadata": {},
   "outputs": [
    {
     "data": {
      "text/html": [
       "<div>\n",
       "<style scoped>\n",
       "    .dataframe tbody tr th:only-of-type {\n",
       "        vertical-align: middle;\n",
       "    }\n",
       "\n",
       "    .dataframe tbody tr th {\n",
       "        vertical-align: top;\n",
       "    }\n",
       "\n",
       "    .dataframe thead th {\n",
       "        text-align: right;\n",
       "    }\n",
       "</style>\n",
       "<table border=\"1\" class=\"dataframe\">\n",
       "  <thead>\n",
       "    <tr style=\"text-align: right;\">\n",
       "      <th></th>\n",
       "      <th>id</th>\n",
       "      <th>carat</th>\n",
       "      <th>color</th>\n",
       "      <th>clarity</th>\n",
       "      <th>depth</th>\n",
       "      <th>table</th>\n",
       "      <th>x</th>\n",
       "      <th>y</th>\n",
       "      <th>z</th>\n",
       "      <th>cut_Fair</th>\n",
       "      <th>cut_Good</th>\n",
       "      <th>cut_Ideal</th>\n",
       "      <th>cut_Premium</th>\n",
       "      <th>cut_Very Good</th>\n",
       "    </tr>\n",
       "  </thead>\n",
       "  <tbody>\n",
       "    <tr>\n",
       "      <th>0</th>\n",
       "      <td>0</td>\n",
       "      <td>1.10</td>\n",
       "      <td>2</td>\n",
       "      <td>1</td>\n",
       "      <td>62.2</td>\n",
       "      <td>58.0</td>\n",
       "      <td>6.69</td>\n",
       "      <td>6.60</td>\n",
       "      <td>4.13</td>\n",
       "      <td>0</td>\n",
       "      <td>0</td>\n",
       "      <td>0</td>\n",
       "      <td>1</td>\n",
       "      <td>0</td>\n",
       "    </tr>\n",
       "    <tr>\n",
       "      <th>1</th>\n",
       "      <td>1</td>\n",
       "      <td>0.51</td>\n",
       "      <td>1</td>\n",
       "      <td>2</td>\n",
       "      <td>62.5</td>\n",
       "      <td>57.0</td>\n",
       "      <td>5.07</td>\n",
       "      <td>5.10</td>\n",
       "      <td>3.18</td>\n",
       "      <td>0</td>\n",
       "      <td>0</td>\n",
       "      <td>1</td>\n",
       "      <td>0</td>\n",
       "      <td>0</td>\n",
       "    </tr>\n",
       "    <tr>\n",
       "      <th>2</th>\n",
       "      <td>2</td>\n",
       "      <td>2.03</td>\n",
       "      <td>3</td>\n",
       "      <td>2</td>\n",
       "      <td>61.9</td>\n",
       "      <td>59.0</td>\n",
       "      <td>8.14</td>\n",
       "      <td>8.09</td>\n",
       "      <td>5.02</td>\n",
       "      <td>0</td>\n",
       "      <td>0</td>\n",
       "      <td>0</td>\n",
       "      <td>1</td>\n",
       "      <td>0</td>\n",
       "    </tr>\n",
       "    <tr>\n",
       "      <th>3</th>\n",
       "      <td>3</td>\n",
       "      <td>1.21</td>\n",
       "      <td>4</td>\n",
       "      <td>2</td>\n",
       "      <td>60.0</td>\n",
       "      <td>60.0</td>\n",
       "      <td>6.96</td>\n",
       "      <td>6.91</td>\n",
       "      <td>4.16</td>\n",
       "      <td>0</td>\n",
       "      <td>0</td>\n",
       "      <td>0</td>\n",
       "      <td>1</td>\n",
       "      <td>0</td>\n",
       "    </tr>\n",
       "    <tr>\n",
       "      <th>4</th>\n",
       "      <td>4</td>\n",
       "      <td>0.55</td>\n",
       "      <td>4</td>\n",
       "      <td>2</td>\n",
       "      <td>61.8</td>\n",
       "      <td>55.0</td>\n",
       "      <td>5.27</td>\n",
       "      <td>5.22</td>\n",
       "      <td>3.24</td>\n",
       "      <td>0</td>\n",
       "      <td>0</td>\n",
       "      <td>1</td>\n",
       "      <td>0</td>\n",
       "      <td>0</td>\n",
       "    </tr>\n",
       "  </tbody>\n",
       "</table>\n",
       "</div>"
      ],
      "text/plain": [
       "   id  carat  color  clarity  depth  table     x     y     z  cut_Fair  \\\n",
       "0   0   1.10      2        1   62.2   58.0  6.69  6.60  4.13         0   \n",
       "1   1   0.51      1        2   62.5   57.0  5.07  5.10  3.18         0   \n",
       "2   2   2.03      3        2   61.9   59.0  8.14  8.09  5.02         0   \n",
       "3   3   1.21      4        2   60.0   60.0  6.96  6.91  4.16         0   \n",
       "4   4   0.55      4        2   61.8   55.0  5.27  5.22  3.24         0   \n",
       "\n",
       "   cut_Good  cut_Ideal  cut_Premium  cut_Very Good  \n",
       "0         0          0            1              0  \n",
       "1         0          1            0              0  \n",
       "2         0          0            1              0  \n",
       "3         0          0            1              0  \n",
       "4         0          1            0              0  "
      ]
     },
     "execution_count": 18,
     "metadata": {},
     "output_type": "execute_result"
    }
   ],
   "source": [
    "X_test = pd.get_dummies(test_df)\n",
    "X_test.head()"
   ]
  },
  {
   "cell_type": "code",
   "execution_count": 19,
   "metadata": {},
   "outputs": [],
   "source": [
    "X_test = X_test.drop(columns=['id','x','y','z'])"
   ]
  },
  {
   "cell_type": "code",
   "execution_count": 20,
   "metadata": {},
   "outputs": [],
   "source": [
    "y_pred = regressor.predict(X_test)"
   ]
  },
  {
   "cell_type": "code",
   "execution_count": 21,
   "metadata": {},
   "outputs": [],
   "source": [
    "last_file = pd.DataFrame({\n",
    "    'id' : test_df['id'],\n",
    "    'price' : y_pred\n",
    "})"
   ]
  },
  {
   "cell_type": "markdown",
   "metadata": {},
   "source": [
    "# Crear nuevo DataFrame"
   ]
  },
  {
   "cell_type": "code",
   "execution_count": 22,
   "metadata": {},
   "outputs": [],
   "source": [
    "last_file.to_csv('CSVs/HistGradientBoostingRegressor.csv',index = False)"
   ]
  },
  {
   "cell_type": "code",
   "execution_count": 23,
   "metadata": {},
   "outputs": [
    {
     "data": {
      "text/html": [
       "<div>\n",
       "<style scoped>\n",
       "    .dataframe tbody tr th:only-of-type {\n",
       "        vertical-align: middle;\n",
       "    }\n",
       "\n",
       "    .dataframe tbody tr th {\n",
       "        vertical-align: top;\n",
       "    }\n",
       "\n",
       "    .dataframe thead th {\n",
       "        text-align: right;\n",
       "    }\n",
       "</style>\n",
       "<table border=\"1\" class=\"dataframe\">\n",
       "  <thead>\n",
       "    <tr style=\"text-align: right;\">\n",
       "      <th></th>\n",
       "      <th>id</th>\n",
       "      <th>price</th>\n",
       "    </tr>\n",
       "  </thead>\n",
       "  <tbody>\n",
       "    <tr>\n",
       "      <th>0</th>\n",
       "      <td>0</td>\n",
       "      <td>4287.372971</td>\n",
       "    </tr>\n",
       "    <tr>\n",
       "      <th>1</th>\n",
       "      <td>1</td>\n",
       "      <td>1157.296457</td>\n",
       "    </tr>\n",
       "    <tr>\n",
       "      <th>2</th>\n",
       "      <td>2</td>\n",
       "      <td>16488.818895</td>\n",
       "    </tr>\n",
       "    <tr>\n",
       "      <th>3</th>\n",
       "      <td>3</td>\n",
       "      <td>6535.459543</td>\n",
       "    </tr>\n",
       "    <tr>\n",
       "      <th>4</th>\n",
       "      <td>4</td>\n",
       "      <td>1475.199646</td>\n",
       "    </tr>\n",
       "  </tbody>\n",
       "</table>\n",
       "</div>"
      ],
      "text/plain": [
       "   id         price\n",
       "0   0   4287.372971\n",
       "1   1   1157.296457\n",
       "2   2  16488.818895\n",
       "3   3   6535.459543\n",
       "4   4   1475.199646"
      ]
     },
     "execution_count": 23,
     "metadata": {},
     "output_type": "execute_result"
    }
   ],
   "source": [
    "last_file.head()"
   ]
  },
  {
   "cell_type": "code",
   "execution_count": null,
   "metadata": {},
   "outputs": [],
   "source": []
  }
 ],
 "metadata": {
  "kernelspec": {
   "display_name": "Python 3",
   "language": "python",
   "name": "python3"
  },
  "language_info": {
   "codemirror_mode": {
    "name": "ipython",
    "version": 3
   },
   "file_extension": ".py",
   "mimetype": "text/x-python",
   "name": "python",
   "nbconvert_exporter": "python",
   "pygments_lexer": "ipython3",
   "version": "3.7.6"
  }
 },
 "nbformat": 4,
 "nbformat_minor": 4
}
