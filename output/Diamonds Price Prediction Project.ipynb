{
 "cells": [
  {
   "cell_type": "markdown",
   "metadata": {},
   "source": [
    "# Diamonds Price Prediction Project"
   ]
  },
  {
   "cell_type": "markdown",
   "metadata": {},
   "source": [
    "### Importing relevant libraries"
   ]
  },
  {
   "cell_type": "code",
   "execution_count": 1,
   "metadata": {},
   "outputs": [],
   "source": [
    "import pandas as pd\n",
    "from sklearn.model_selection import train_test_split\n",
    "from sklearn.linear_model import LogisticRegression\n",
    "from sklearn.svm import LinearSVC\n",
    "from sklearn.svm import SVC\n",
    "from sklearn.calibration import CalibratedClassifierCV\n",
    "from sklearn.preprocessing import StandardScaler, Normalizer\n",
    "from sklearn.pipeline import make_pipeline\n",
    "import seaborn as sns\n",
    "from sklearn.ensemble import RandomForestRegressor\n",
    "from sklearn.feature_selection import RFECV\n",
    "from sklearn.metrics import mean_squared_error\n",
    "from sklearn.metrics import mean_squared_log_error\n",
    "from sklearn.metrics import mean_absolute_error\n",
    "from sklearn.metrics import r2_score"
   ]
  },
  {
   "cell_type": "markdown",
   "metadata": {},
   "source": [
    "### Relevant information"
   ]
  },
  {
   "cell_type": "markdown",
   "metadata": {},
   "source": [
    "#### Files\n",
    "\n",
    "- data.csv: training set\n",
    "- test.csv: test set\n",
    "- sample_submission.csv: sample submission\n",
    "\n",
    "#### Features\n",
    "\n",
    "- id: only for test & sample submission files, id for prediction sample identification\n",
    "- price: price in USD\n",
    "- carat: weight of the diamond\n",
    "- cut: quality of the cut (Fair, Good, Very Good, Premium, Ideal)\n",
    "- color: diamond colour, from J (worst) to D (best)\n",
    "- clarity: a measurement of how clear the diamond is (I1 (worst), SI2, SI1, VS2, VS1, VVS2, VVS1, IF (best))\n",
    "- x: length in mm\n",
    "- y: width in mm\n",
    "- z: depth in mm\n",
    "- depth: total depth percentage = z / mean(x, y) = 2 * z / (x + y) (43--79)\n",
    "- table: width of top of diamond relative to widest point (43--95)"
   ]
  },
  {
   "cell_type": "markdown",
   "metadata": {},
   "source": [
    "### Importing the training csv"
   ]
  },
  {
   "cell_type": "code",
   "execution_count": 2,
   "metadata": {},
   "outputs": [
    {
     "data": {
      "text/html": [
       "<div>\n",
       "<style scoped>\n",
       "    .dataframe tbody tr th:only-of-type {\n",
       "        vertical-align: middle;\n",
       "    }\n",
       "\n",
       "    .dataframe tbody tr th {\n",
       "        vertical-align: top;\n",
       "    }\n",
       "\n",
       "    .dataframe thead th {\n",
       "        text-align: right;\n",
       "    }\n",
       "</style>\n",
       "<table border=\"1\" class=\"dataframe\">\n",
       "  <thead>\n",
       "    <tr style=\"text-align: right;\">\n",
       "      <th></th>\n",
       "      <th>id</th>\n",
       "      <th>carat</th>\n",
       "      <th>cut</th>\n",
       "      <th>color</th>\n",
       "      <th>clarity</th>\n",
       "      <th>depth</th>\n",
       "      <th>table</th>\n",
       "      <th>x</th>\n",
       "      <th>y</th>\n",
       "      <th>z</th>\n",
       "      <th>price</th>\n",
       "    </tr>\n",
       "  </thead>\n",
       "  <tbody>\n",
       "    <tr>\n",
       "      <th>0</th>\n",
       "      <td>0</td>\n",
       "      <td>0.78</td>\n",
       "      <td>Premium</td>\n",
       "      <td>F</td>\n",
       "      <td>VS1</td>\n",
       "      <td>61.5</td>\n",
       "      <td>58.0</td>\n",
       "      <td>5.93</td>\n",
       "      <td>5.98</td>\n",
       "      <td>3.66</td>\n",
       "      <td>3446</td>\n",
       "    </tr>\n",
       "    <tr>\n",
       "      <th>1</th>\n",
       "      <td>1</td>\n",
       "      <td>0.31</td>\n",
       "      <td>Ideal</td>\n",
       "      <td>D</td>\n",
       "      <td>SI1</td>\n",
       "      <td>60.8</td>\n",
       "      <td>56.0</td>\n",
       "      <td>4.37</td>\n",
       "      <td>4.32</td>\n",
       "      <td>2.64</td>\n",
       "      <td>732</td>\n",
       "    </tr>\n",
       "    <tr>\n",
       "      <th>2</th>\n",
       "      <td>2</td>\n",
       "      <td>0.30</td>\n",
       "      <td>Ideal</td>\n",
       "      <td>F</td>\n",
       "      <td>SI1</td>\n",
       "      <td>62.3</td>\n",
       "      <td>54.0</td>\n",
       "      <td>4.30</td>\n",
       "      <td>4.34</td>\n",
       "      <td>2.69</td>\n",
       "      <td>475</td>\n",
       "    </tr>\n",
       "    <tr>\n",
       "      <th>3</th>\n",
       "      <td>3</td>\n",
       "      <td>1.04</td>\n",
       "      <td>Ideal</td>\n",
       "      <td>E</td>\n",
       "      <td>VVS2</td>\n",
       "      <td>62.0</td>\n",
       "      <td>58.0</td>\n",
       "      <td>6.54</td>\n",
       "      <td>6.46</td>\n",
       "      <td>4.03</td>\n",
       "      <td>9552</td>\n",
       "    </tr>\n",
       "    <tr>\n",
       "      <th>4</th>\n",
       "      <td>4</td>\n",
       "      <td>0.65</td>\n",
       "      <td>Ideal</td>\n",
       "      <td>J</td>\n",
       "      <td>SI1</td>\n",
       "      <td>61.4</td>\n",
       "      <td>55.0</td>\n",
       "      <td>5.58</td>\n",
       "      <td>5.62</td>\n",
       "      <td>3.44</td>\n",
       "      <td>1276</td>\n",
       "    </tr>\n",
       "  </tbody>\n",
       "</table>\n",
       "</div>"
      ],
      "text/plain": [
       "   id  carat      cut color clarity  depth  table     x     y     z  price\n",
       "0   0   0.78  Premium     F     VS1   61.5   58.0  5.93  5.98  3.66   3446\n",
       "1   1   0.31    Ideal     D     SI1   60.8   56.0  4.37  4.32  2.64    732\n",
       "2   2   0.30    Ideal     F     SI1   62.3   54.0  4.30  4.34  2.69    475\n",
       "3   3   1.04    Ideal     E    VVS2   62.0   58.0  6.54  6.46  4.03   9552\n",
       "4   4   0.65    Ideal     J     SI1   61.4   55.0  5.58  5.62  3.44   1276"
      ]
     },
     "execution_count": 2,
     "metadata": {},
     "output_type": "execute_result"
    },
    {
     "data": {
      "text/html": [
       "<div>\n",
       "<style scoped>\n",
       "    .dataframe tbody tr th:only-of-type {\n",
       "        vertical-align: middle;\n",
       "    }\n",
       "\n",
       "    .dataframe tbody tr th {\n",
       "        vertical-align: top;\n",
       "    }\n",
       "\n",
       "    .dataframe thead th {\n",
       "        text-align: right;\n",
       "    }\n",
       "</style>\n",
       "<table border=\"1\" class=\"dataframe\">\n",
       "  <thead>\n",
       "    <tr style=\"text-align: right;\">\n",
       "      <th></th>\n",
       "      <th>id</th>\n",
       "      <th>carat</th>\n",
       "      <th>cut</th>\n",
       "      <th>color</th>\n",
       "      <th>clarity</th>\n",
       "      <th>depth</th>\n",
       "      <th>table</th>\n",
       "      <th>x</th>\n",
       "      <th>y</th>\n",
       "      <th>z</th>\n",
       "      <th>price</th>\n",
       "    </tr>\n",
       "  </thead>\n",
       "  <tbody>\n",
       "    <tr>\n",
       "      <th>0</th>\n",
       "      <td>0</td>\n",
       "      <td>0.78</td>\n",
       "      <td>Premium</td>\n",
       "      <td>F</td>\n",
       "      <td>VS1</td>\n",
       "      <td>61.5</td>\n",
       "      <td>58.0</td>\n",
       "      <td>5.93</td>\n",
       "      <td>5.98</td>\n",
       "      <td>3.66</td>\n",
       "      <td>3446</td>\n",
       "    </tr>\n",
       "    <tr>\n",
       "      <th>1</th>\n",
       "      <td>1</td>\n",
       "      <td>0.31</td>\n",
       "      <td>Ideal</td>\n",
       "      <td>D</td>\n",
       "      <td>SI1</td>\n",
       "      <td>60.8</td>\n",
       "      <td>56.0</td>\n",
       "      <td>4.37</td>\n",
       "      <td>4.32</td>\n",
       "      <td>2.64</td>\n",
       "      <td>732</td>\n",
       "    </tr>\n",
       "    <tr>\n",
       "      <th>2</th>\n",
       "      <td>2</td>\n",
       "      <td>0.30</td>\n",
       "      <td>Ideal</td>\n",
       "      <td>F</td>\n",
       "      <td>SI1</td>\n",
       "      <td>62.3</td>\n",
       "      <td>54.0</td>\n",
       "      <td>4.30</td>\n",
       "      <td>4.34</td>\n",
       "      <td>2.69</td>\n",
       "      <td>475</td>\n",
       "    </tr>\n",
       "    <tr>\n",
       "      <th>3</th>\n",
       "      <td>3</td>\n",
       "      <td>1.04</td>\n",
       "      <td>Ideal</td>\n",
       "      <td>E</td>\n",
       "      <td>VVS2</td>\n",
       "      <td>62.0</td>\n",
       "      <td>58.0</td>\n",
       "      <td>6.54</td>\n",
       "      <td>6.46</td>\n",
       "      <td>4.03</td>\n",
       "      <td>9552</td>\n",
       "    </tr>\n",
       "    <tr>\n",
       "      <th>4</th>\n",
       "      <td>4</td>\n",
       "      <td>0.65</td>\n",
       "      <td>Ideal</td>\n",
       "      <td>J</td>\n",
       "      <td>SI1</td>\n",
       "      <td>61.4</td>\n",
       "      <td>55.0</td>\n",
       "      <td>5.58</td>\n",
       "      <td>5.62</td>\n",
       "      <td>3.44</td>\n",
       "      <td>1276</td>\n",
       "    </tr>\n",
       "  </tbody>\n",
       "</table>\n",
       "</div>"
      ],
      "text/plain": [
       "   id  carat      cut color clarity  depth  table     x     y     z  price\n",
       "0   0   0.78  Premium     F     VS1   61.5   58.0  5.93  5.98  3.66   3446\n",
       "1   1   0.31    Ideal     D     SI1   60.8   56.0  4.37  4.32  2.64    732\n",
       "2   2   0.30    Ideal     F     SI1   62.3   54.0  4.30  4.34  2.69    475\n",
       "3   3   1.04    Ideal     E    VVS2   62.0   58.0  6.54  6.46  4.03   9552\n",
       "4   4   0.65    Ideal     J     SI1   61.4   55.0  5.58  5.62  3.44   1276"
      ]
     },
     "execution_count": 2,
     "metadata": {},
     "output_type": "execute_result"
    },
    {
     "data": {
      "text/html": [
       "<div>\n",
       "<style scoped>\n",
       "    .dataframe tbody tr th:only-of-type {\n",
       "        vertical-align: middle;\n",
       "    }\n",
       "\n",
       "    .dataframe tbody tr th {\n",
       "        vertical-align: top;\n",
       "    }\n",
       "\n",
       "    .dataframe thead th {\n",
       "        text-align: right;\n",
       "    }\n",
       "</style>\n",
       "<table border=\"1\" class=\"dataframe\">\n",
       "  <thead>\n",
       "    <tr style=\"text-align: right;\">\n",
       "      <th></th>\n",
       "      <th>id</th>\n",
       "      <th>carat</th>\n",
       "      <th>cut</th>\n",
       "      <th>color</th>\n",
       "      <th>clarity</th>\n",
       "      <th>depth</th>\n",
       "      <th>table</th>\n",
       "      <th>x</th>\n",
       "      <th>y</th>\n",
       "      <th>z</th>\n",
       "      <th>price</th>\n",
       "    </tr>\n",
       "  </thead>\n",
       "  <tbody>\n",
       "    <tr>\n",
       "      <th>0</th>\n",
       "      <td>0</td>\n",
       "      <td>0.78</td>\n",
       "      <td>Premium</td>\n",
       "      <td>F</td>\n",
       "      <td>VS1</td>\n",
       "      <td>61.5</td>\n",
       "      <td>58.0</td>\n",
       "      <td>5.93</td>\n",
       "      <td>5.98</td>\n",
       "      <td>3.66</td>\n",
       "      <td>3446</td>\n",
       "    </tr>\n",
       "    <tr>\n",
       "      <th>1</th>\n",
       "      <td>1</td>\n",
       "      <td>0.31</td>\n",
       "      <td>Ideal</td>\n",
       "      <td>D</td>\n",
       "      <td>SI1</td>\n",
       "      <td>60.8</td>\n",
       "      <td>56.0</td>\n",
       "      <td>4.37</td>\n",
       "      <td>4.32</td>\n",
       "      <td>2.64</td>\n",
       "      <td>732</td>\n",
       "    </tr>\n",
       "    <tr>\n",
       "      <th>2</th>\n",
       "      <td>2</td>\n",
       "      <td>0.30</td>\n",
       "      <td>Ideal</td>\n",
       "      <td>F</td>\n",
       "      <td>SI1</td>\n",
       "      <td>62.3</td>\n",
       "      <td>54.0</td>\n",
       "      <td>4.30</td>\n",
       "      <td>4.34</td>\n",
       "      <td>2.69</td>\n",
       "      <td>475</td>\n",
       "    </tr>\n",
       "    <tr>\n",
       "      <th>3</th>\n",
       "      <td>3</td>\n",
       "      <td>1.04</td>\n",
       "      <td>Ideal</td>\n",
       "      <td>E</td>\n",
       "      <td>VVS2</td>\n",
       "      <td>62.0</td>\n",
       "      <td>58.0</td>\n",
       "      <td>6.54</td>\n",
       "      <td>6.46</td>\n",
       "      <td>4.03</td>\n",
       "      <td>9552</td>\n",
       "    </tr>\n",
       "    <tr>\n",
       "      <th>4</th>\n",
       "      <td>4</td>\n",
       "      <td>0.65</td>\n",
       "      <td>Ideal</td>\n",
       "      <td>J</td>\n",
       "      <td>SI1</td>\n",
       "      <td>61.4</td>\n",
       "      <td>55.0</td>\n",
       "      <td>5.58</td>\n",
       "      <td>5.62</td>\n",
       "      <td>3.44</td>\n",
       "      <td>1276</td>\n",
       "    </tr>\n",
       "  </tbody>\n",
       "</table>\n",
       "</div>"
      ],
      "text/plain": [
       "   id  carat      cut color clarity  depth  table     x     y     z  price\n",
       "0   0   0.78  Premium     F     VS1   61.5   58.0  5.93  5.98  3.66   3446\n",
       "1   1   0.31    Ideal     D     SI1   60.8   56.0  4.37  4.32  2.64    732\n",
       "2   2   0.30    Ideal     F     SI1   62.3   54.0  4.30  4.34  2.69    475\n",
       "3   3   1.04    Ideal     E    VVS2   62.0   58.0  6.54  6.46  4.03   9552\n",
       "4   4   0.65    Ideal     J     SI1   61.4   55.0  5.58  5.62  3.44   1276"
      ]
     },
     "execution_count": 2,
     "metadata": {},
     "output_type": "execute_result"
    }
   ],
   "source": [
    "#Importing the csv to Jupyter Notebook\n",
    "training_df = pd.read_csv(\"../input/diamonds-datamad0120/diamonds_train.csv\")\n",
    "training_df.head()"
   ]
  },
  {
   "cell_type": "code",
   "execution_count": 3,
   "metadata": {},
   "outputs": [
    {
     "data": {
      "text/plain": [
       "(40345, 11)"
      ]
     },
     "execution_count": 3,
     "metadata": {},
     "output_type": "execute_result"
    },
    {
     "data": {
      "text/plain": [
       "(40345, 11)"
      ]
     },
     "execution_count": 3,
     "metadata": {},
     "output_type": "execute_result"
    },
    {
     "data": {
      "text/plain": [
       "(40345, 11)"
      ]
     },
     "execution_count": 3,
     "metadata": {},
     "output_type": "execute_result"
    }
   ],
   "source": [
    "#Checking the shape of the dataframe\n",
    "training_df.shape"
   ]
  },
  {
   "cell_type": "code",
   "execution_count": 4,
   "metadata": {},
   "outputs": [
    {
     "data": {
      "text/plain": [
       "id         0\n",
       "carat      0\n",
       "cut        0\n",
       "color      0\n",
       "clarity    0\n",
       "depth      0\n",
       "table      0\n",
       "x          0\n",
       "y          0\n",
       "z          0\n",
       "price      0\n",
       "dtype: int64"
      ]
     },
     "execution_count": 4,
     "metadata": {},
     "output_type": "execute_result"
    },
    {
     "data": {
      "text/plain": [
       "id         0\n",
       "carat      0\n",
       "cut        0\n",
       "color      0\n",
       "clarity    0\n",
       "depth      0\n",
       "table      0\n",
       "x          0\n",
       "y          0\n",
       "z          0\n",
       "price      0\n",
       "dtype: int64"
      ]
     },
     "execution_count": 4,
     "metadata": {},
     "output_type": "execute_result"
    },
    {
     "data": {
      "text/plain": [
       "id         0\n",
       "carat      0\n",
       "cut        0\n",
       "color      0\n",
       "clarity    0\n",
       "depth      0\n",
       "table      0\n",
       "x          0\n",
       "y          0\n",
       "z          0\n",
       "price      0\n",
       "dtype: int64"
      ]
     },
     "execution_count": 4,
     "metadata": {},
     "output_type": "execute_result"
    }
   ],
   "source": [
    "#Checking if there are missing values\n",
    "training_df.isnull().sum()"
   ]
  },
  {
   "cell_type": "code",
   "execution_count": 5,
   "metadata": {},
   "outputs": [],
   "source": [
    "# set the id column as index\n",
    "training_df.set_index('id', inplace=True)"
   ]
  },
  {
   "cell_type": "code",
   "execution_count": 6,
   "metadata": {},
   "outputs": [
    {
     "data": {
      "text/html": [
       "<div>\n",
       "<style scoped>\n",
       "    .dataframe tbody tr th:only-of-type {\n",
       "        vertical-align: middle;\n",
       "    }\n",
       "\n",
       "    .dataframe tbody tr th {\n",
       "        vertical-align: top;\n",
       "    }\n",
       "\n",
       "    .dataframe thead th {\n",
       "        text-align: right;\n",
       "    }\n",
       "</style>\n",
       "<table border=\"1\" class=\"dataframe\">\n",
       "  <thead>\n",
       "    <tr style=\"text-align: right;\">\n",
       "      <th></th>\n",
       "      <th>carat</th>\n",
       "      <th>cut</th>\n",
       "      <th>color</th>\n",
       "      <th>clarity</th>\n",
       "      <th>depth</th>\n",
       "      <th>table</th>\n",
       "      <th>x</th>\n",
       "      <th>y</th>\n",
       "      <th>z</th>\n",
       "      <th>price</th>\n",
       "    </tr>\n",
       "    <tr>\n",
       "      <th>id</th>\n",
       "      <th></th>\n",
       "      <th></th>\n",
       "      <th></th>\n",
       "      <th></th>\n",
       "      <th></th>\n",
       "      <th></th>\n",
       "      <th></th>\n",
       "      <th></th>\n",
       "      <th></th>\n",
       "      <th></th>\n",
       "    </tr>\n",
       "  </thead>\n",
       "  <tbody>\n",
       "    <tr>\n",
       "      <th>0</th>\n",
       "      <td>0.78</td>\n",
       "      <td>Premium</td>\n",
       "      <td>F</td>\n",
       "      <td>VS1</td>\n",
       "      <td>61.5</td>\n",
       "      <td>58.0</td>\n",
       "      <td>5.93</td>\n",
       "      <td>5.98</td>\n",
       "      <td>3.66</td>\n",
       "      <td>3446</td>\n",
       "    </tr>\n",
       "    <tr>\n",
       "      <th>1</th>\n",
       "      <td>0.31</td>\n",
       "      <td>Ideal</td>\n",
       "      <td>D</td>\n",
       "      <td>SI1</td>\n",
       "      <td>60.8</td>\n",
       "      <td>56.0</td>\n",
       "      <td>4.37</td>\n",
       "      <td>4.32</td>\n",
       "      <td>2.64</td>\n",
       "      <td>732</td>\n",
       "    </tr>\n",
       "    <tr>\n",
       "      <th>2</th>\n",
       "      <td>0.30</td>\n",
       "      <td>Ideal</td>\n",
       "      <td>F</td>\n",
       "      <td>SI1</td>\n",
       "      <td>62.3</td>\n",
       "      <td>54.0</td>\n",
       "      <td>4.30</td>\n",
       "      <td>4.34</td>\n",
       "      <td>2.69</td>\n",
       "      <td>475</td>\n",
       "    </tr>\n",
       "    <tr>\n",
       "      <th>3</th>\n",
       "      <td>1.04</td>\n",
       "      <td>Ideal</td>\n",
       "      <td>E</td>\n",
       "      <td>VVS2</td>\n",
       "      <td>62.0</td>\n",
       "      <td>58.0</td>\n",
       "      <td>6.54</td>\n",
       "      <td>6.46</td>\n",
       "      <td>4.03</td>\n",
       "      <td>9552</td>\n",
       "    </tr>\n",
       "    <tr>\n",
       "      <th>4</th>\n",
       "      <td>0.65</td>\n",
       "      <td>Ideal</td>\n",
       "      <td>J</td>\n",
       "      <td>SI1</td>\n",
       "      <td>61.4</td>\n",
       "      <td>55.0</td>\n",
       "      <td>5.58</td>\n",
       "      <td>5.62</td>\n",
       "      <td>3.44</td>\n",
       "      <td>1276</td>\n",
       "    </tr>\n",
       "  </tbody>\n",
       "</table>\n",
       "</div>"
      ],
      "text/plain": [
       "    carat      cut color clarity  depth  table     x     y     z  price\n",
       "id                                                                     \n",
       "0    0.78  Premium     F     VS1   61.5   58.0  5.93  5.98  3.66   3446\n",
       "1    0.31    Ideal     D     SI1   60.8   56.0  4.37  4.32  2.64    732\n",
       "2    0.30    Ideal     F     SI1   62.3   54.0  4.30  4.34  2.69    475\n",
       "3    1.04    Ideal     E    VVS2   62.0   58.0  6.54  6.46  4.03   9552\n",
       "4    0.65    Ideal     J     SI1   61.4   55.0  5.58  5.62  3.44   1276"
      ]
     },
     "execution_count": 6,
     "metadata": {},
     "output_type": "execute_result"
    },
    {
     "data": {
      "text/html": [
       "<div>\n",
       "<style scoped>\n",
       "    .dataframe tbody tr th:only-of-type {\n",
       "        vertical-align: middle;\n",
       "    }\n",
       "\n",
       "    .dataframe tbody tr th {\n",
       "        vertical-align: top;\n",
       "    }\n",
       "\n",
       "    .dataframe thead th {\n",
       "        text-align: right;\n",
       "    }\n",
       "</style>\n",
       "<table border=\"1\" class=\"dataframe\">\n",
       "  <thead>\n",
       "    <tr style=\"text-align: right;\">\n",
       "      <th></th>\n",
       "      <th>carat</th>\n",
       "      <th>cut</th>\n",
       "      <th>color</th>\n",
       "      <th>clarity</th>\n",
       "      <th>depth</th>\n",
       "      <th>table</th>\n",
       "      <th>x</th>\n",
       "      <th>y</th>\n",
       "      <th>z</th>\n",
       "      <th>price</th>\n",
       "    </tr>\n",
       "    <tr>\n",
       "      <th>id</th>\n",
       "      <th></th>\n",
       "      <th></th>\n",
       "      <th></th>\n",
       "      <th></th>\n",
       "      <th></th>\n",
       "      <th></th>\n",
       "      <th></th>\n",
       "      <th></th>\n",
       "      <th></th>\n",
       "      <th></th>\n",
       "    </tr>\n",
       "  </thead>\n",
       "  <tbody>\n",
       "    <tr>\n",
       "      <th>0</th>\n",
       "      <td>0.78</td>\n",
       "      <td>Premium</td>\n",
       "      <td>F</td>\n",
       "      <td>VS1</td>\n",
       "      <td>61.5</td>\n",
       "      <td>58.0</td>\n",
       "      <td>5.93</td>\n",
       "      <td>5.98</td>\n",
       "      <td>3.66</td>\n",
       "      <td>3446</td>\n",
       "    </tr>\n",
       "    <tr>\n",
       "      <th>1</th>\n",
       "      <td>0.31</td>\n",
       "      <td>Ideal</td>\n",
       "      <td>D</td>\n",
       "      <td>SI1</td>\n",
       "      <td>60.8</td>\n",
       "      <td>56.0</td>\n",
       "      <td>4.37</td>\n",
       "      <td>4.32</td>\n",
       "      <td>2.64</td>\n",
       "      <td>732</td>\n",
       "    </tr>\n",
       "    <tr>\n",
       "      <th>2</th>\n",
       "      <td>0.30</td>\n",
       "      <td>Ideal</td>\n",
       "      <td>F</td>\n",
       "      <td>SI1</td>\n",
       "      <td>62.3</td>\n",
       "      <td>54.0</td>\n",
       "      <td>4.30</td>\n",
       "      <td>4.34</td>\n",
       "      <td>2.69</td>\n",
       "      <td>475</td>\n",
       "    </tr>\n",
       "    <tr>\n",
       "      <th>3</th>\n",
       "      <td>1.04</td>\n",
       "      <td>Ideal</td>\n",
       "      <td>E</td>\n",
       "      <td>VVS2</td>\n",
       "      <td>62.0</td>\n",
       "      <td>58.0</td>\n",
       "      <td>6.54</td>\n",
       "      <td>6.46</td>\n",
       "      <td>4.03</td>\n",
       "      <td>9552</td>\n",
       "    </tr>\n",
       "    <tr>\n",
       "      <th>4</th>\n",
       "      <td>0.65</td>\n",
       "      <td>Ideal</td>\n",
       "      <td>J</td>\n",
       "      <td>SI1</td>\n",
       "      <td>61.4</td>\n",
       "      <td>55.0</td>\n",
       "      <td>5.58</td>\n",
       "      <td>5.62</td>\n",
       "      <td>3.44</td>\n",
       "      <td>1276</td>\n",
       "    </tr>\n",
       "  </tbody>\n",
       "</table>\n",
       "</div>"
      ],
      "text/plain": [
       "    carat      cut color clarity  depth  table     x     y     z  price\n",
       "id                                                                     \n",
       "0    0.78  Premium     F     VS1   61.5   58.0  5.93  5.98  3.66   3446\n",
       "1    0.31    Ideal     D     SI1   60.8   56.0  4.37  4.32  2.64    732\n",
       "2    0.30    Ideal     F     SI1   62.3   54.0  4.30  4.34  2.69    475\n",
       "3    1.04    Ideal     E    VVS2   62.0   58.0  6.54  6.46  4.03   9552\n",
       "4    0.65    Ideal     J     SI1   61.4   55.0  5.58  5.62  3.44   1276"
      ]
     },
     "execution_count": 6,
     "metadata": {},
     "output_type": "execute_result"
    },
    {
     "data": {
      "text/html": [
       "<div>\n",
       "<style scoped>\n",
       "    .dataframe tbody tr th:only-of-type {\n",
       "        vertical-align: middle;\n",
       "    }\n",
       "\n",
       "    .dataframe tbody tr th {\n",
       "        vertical-align: top;\n",
       "    }\n",
       "\n",
       "    .dataframe thead th {\n",
       "        text-align: right;\n",
       "    }\n",
       "</style>\n",
       "<table border=\"1\" class=\"dataframe\">\n",
       "  <thead>\n",
       "    <tr style=\"text-align: right;\">\n",
       "      <th></th>\n",
       "      <th>carat</th>\n",
       "      <th>cut</th>\n",
       "      <th>color</th>\n",
       "      <th>clarity</th>\n",
       "      <th>depth</th>\n",
       "      <th>table</th>\n",
       "      <th>x</th>\n",
       "      <th>y</th>\n",
       "      <th>z</th>\n",
       "      <th>price</th>\n",
       "    </tr>\n",
       "    <tr>\n",
       "      <th>id</th>\n",
       "      <th></th>\n",
       "      <th></th>\n",
       "      <th></th>\n",
       "      <th></th>\n",
       "      <th></th>\n",
       "      <th></th>\n",
       "      <th></th>\n",
       "      <th></th>\n",
       "      <th></th>\n",
       "      <th></th>\n",
       "    </tr>\n",
       "  </thead>\n",
       "  <tbody>\n",
       "    <tr>\n",
       "      <th>0</th>\n",
       "      <td>0.78</td>\n",
       "      <td>Premium</td>\n",
       "      <td>F</td>\n",
       "      <td>VS1</td>\n",
       "      <td>61.5</td>\n",
       "      <td>58.0</td>\n",
       "      <td>5.93</td>\n",
       "      <td>5.98</td>\n",
       "      <td>3.66</td>\n",
       "      <td>3446</td>\n",
       "    </tr>\n",
       "    <tr>\n",
       "      <th>1</th>\n",
       "      <td>0.31</td>\n",
       "      <td>Ideal</td>\n",
       "      <td>D</td>\n",
       "      <td>SI1</td>\n",
       "      <td>60.8</td>\n",
       "      <td>56.0</td>\n",
       "      <td>4.37</td>\n",
       "      <td>4.32</td>\n",
       "      <td>2.64</td>\n",
       "      <td>732</td>\n",
       "    </tr>\n",
       "    <tr>\n",
       "      <th>2</th>\n",
       "      <td>0.30</td>\n",
       "      <td>Ideal</td>\n",
       "      <td>F</td>\n",
       "      <td>SI1</td>\n",
       "      <td>62.3</td>\n",
       "      <td>54.0</td>\n",
       "      <td>4.30</td>\n",
       "      <td>4.34</td>\n",
       "      <td>2.69</td>\n",
       "      <td>475</td>\n",
       "    </tr>\n",
       "    <tr>\n",
       "      <th>3</th>\n",
       "      <td>1.04</td>\n",
       "      <td>Ideal</td>\n",
       "      <td>E</td>\n",
       "      <td>VVS2</td>\n",
       "      <td>62.0</td>\n",
       "      <td>58.0</td>\n",
       "      <td>6.54</td>\n",
       "      <td>6.46</td>\n",
       "      <td>4.03</td>\n",
       "      <td>9552</td>\n",
       "    </tr>\n",
       "    <tr>\n",
       "      <th>4</th>\n",
       "      <td>0.65</td>\n",
       "      <td>Ideal</td>\n",
       "      <td>J</td>\n",
       "      <td>SI1</td>\n",
       "      <td>61.4</td>\n",
       "      <td>55.0</td>\n",
       "      <td>5.58</td>\n",
       "      <td>5.62</td>\n",
       "      <td>3.44</td>\n",
       "      <td>1276</td>\n",
       "    </tr>\n",
       "  </tbody>\n",
       "</table>\n",
       "</div>"
      ],
      "text/plain": [
       "    carat      cut color clarity  depth  table     x     y     z  price\n",
       "id                                                                     \n",
       "0    0.78  Premium     F     VS1   61.5   58.0  5.93  5.98  3.66   3446\n",
       "1    0.31    Ideal     D     SI1   60.8   56.0  4.37  4.32  2.64    732\n",
       "2    0.30    Ideal     F     SI1   62.3   54.0  4.30  4.34  2.69    475\n",
       "3    1.04    Ideal     E    VVS2   62.0   58.0  6.54  6.46  4.03   9552\n",
       "4    0.65    Ideal     J     SI1   61.4   55.0  5.58  5.62  3.44   1276"
      ]
     },
     "execution_count": 6,
     "metadata": {},
     "output_type": "execute_result"
    }
   ],
   "source": [
    "training_df.head()"
   ]
  },
  {
   "cell_type": "code",
   "execution_count": 7,
   "metadata": {
    "scrolled": false
   },
   "outputs": [
    {
     "name": "stdout",
     "output_type": "stream",
     "text": [
      "**** carat **** --> [0.78 0.31 0.3  1.04 0.65 0.9  0.71 2.05 1.1  1.19 0.33 1.3  1.29 0.69\n",
      " 0.28 1.4  1.01 0.5  1.5  1.03 1.51 0.76 1.21 0.74 0.32 0.59 1.02 2.01\n",
      " 0.91 0.43 0.23 0.52 0.34 2.   1.7  0.35 0.8  0.4  1.32 0.54 0.42 1.\n",
      " 0.41 0.51 0.26 0.93 1.07 0.7  0.55 0.82 2.28 1.56 0.79 1.24 0.57 2.02\n",
      " 0.63 0.72 1.09 1.06 0.36 0.61 0.25 1.45 1.52 1.6  0.56 1.05 1.2  1.31\n",
      " 1.11 0.77 0.38 1.13 1.53 2.31 1.61 1.75 1.18 0.64 1.12 1.22 1.76 1.25\n",
      " 1.17 1.71 1.14 0.37 1.27 0.48 1.44 0.73 1.23 0.53 1.33 0.27 1.54 0.62\n",
      " 1.41 1.43 1.35 0.29 1.84 3.51 2.21 0.46 1.59 2.11 1.26 2.08 2.23 2.12\n",
      " 2.09 0.39 0.92 1.16 1.64 0.83 2.35 0.44 0.49 1.63 0.58 2.32 1.57 1.74\n",
      " 1.15 1.82 1.34 2.15 2.52 1.72 2.03 2.18 1.95 0.24 0.75 0.45 2.25 1.66\n",
      " 0.85 1.62 0.47 0.81 2.2  3.   1.58 0.89 2.24 1.65 1.28 1.38 0.6  1.83\n",
      " 1.73 0.66 0.96 1.79 2.04 0.95 2.1  0.84 1.08 1.55 0.99 0.94 2.06 0.87\n",
      " 2.19 2.51 2.68 0.67 2.44 0.97 2.26 0.98 1.46 2.07 3.65 0.22 0.21 2.53\n",
      " 2.29 1.86 1.37 2.13 2.14 1.9  3.01 2.39 2.27 1.39 0.2  2.54 0.68 2.17\n",
      " 2.41 1.42 1.36 1.81 1.96 1.78 1.69 2.22 1.48 2.33 1.67 0.86 1.49 2.55\n",
      " 2.43 2.66 1.89 1.98 1.8  0.88 1.97 2.48 1.88 2.64 2.16 1.68 1.91 2.3\n",
      " 2.67 4.13 2.5  2.57 1.77 2.74 2.37 2.45 2.38 1.93 2.61 2.46 2.6  2.47\n",
      " 2.42 1.87 4.01 1.99 2.36 5.01 1.85 2.75 1.47 3.5  2.4  2.8  4.   2.49\n",
      " 1.94 3.04 2.34 2.72 3.24 2.56 2.59 3.02 2.77 1.92 2.63 3.22]\n",
      "**** cut **** --> ['Premium' 'Ideal' 'Very Good' 'Fair' 'Good']\n",
      "**** color **** --> ['F' 'D' 'E' 'J' 'H' 'I' 'G']\n",
      "**** clarity **** --> ['VS1' 'SI1' 'VVS2' 'SI2' 'VS2' 'IF' 'VVS1' 'I1']\n",
      "**** depth **** --> [61.5 60.8 62.3 62.  61.4 62.2 64.6 62.4 61.3 59.9 61.2 60.9 61.8 60.7\n",
      " 60.6 63.3 59.3 61.1 64.7 61.9 62.6 64.9 63.  60.3 63.5 64.2 60.4 62.9\n",
      " 62.5 65.5 61.7 57.3 62.1 60.  63.7 62.7 63.4 61.6 63.1 62.8 60.2 61.\n",
      " 66.1 59.8 59.6 60.1 58.1 60.5 63.8 58.7 67.5 58.9 70.2 63.6 65.  58.2\n",
      " 58.5 64.1 63.2 59.5 65.3 66.9 58.4 59.4 66.8 64.  57.8 57.9 65.4 59.\n",
      " 59.2 59.1 57.2 58.8 63.9 66.5 59.7 57.4 58.  65.7 57.7 66.3 55.8 65.8\n",
      " 56.9 64.3 64.8 56.1 65.1 64.4 58.3 58.6 66.  65.2 66.2 64.5 56.7 57.1\n",
      " 54.7 57.  68.6 67.1 69.1 57.6 57.5 53.  69.3 68.3 69.5 66.6 68.9 55.9\n",
      " 66.7 67.3 65.9 67.2 56.2 55.3 65.6 56.  56.3 66.4 53.2 67.7 68.7 68.5\n",
      " 56.4 55.5 67.8 69.6 56.6 69.  56.8 68.8 52.7 69.4 68.1 67.9 53.1 72.2\n",
      " 67.6 55.1 53.4 68.4 52.3 55.2 70.1 67.  68.  69.8 67.4 43.  71.  70.6\n",
      " 54.4 55.4 54.2 70.8 56.5 51.  70.5 68.2 69.2 44.  53.8 71.6 53.3 52.2\n",
      " 69.7 70.  71.8 55.  55.6 79.  78.2 69.9 54.  50.8]\n",
      "**** table **** --> [58.  56.  54.  55.  60.  59.  57.  61.  52.  53.  62.  55.2 54.6 63.\n",
      " 64.  54.1 53.7 66.  65.  67.  54.2 55.7 54.5 61.5 53.9 56.3 58.5 43.\n",
      " 57.7 60.5 60.9 54.7 53.8 59.6 61.9 55.8 58.1 57.5 57.2 54.9 55.6 55.1\n",
      " 53.4 57.6 49.  60.3 53.5 54.8 53.6 60.8 59.4 57.8 60.1 70.  54.4 68.\n",
      " 56.9 76.  56.2 59.1 57.1 56.5 58.9 56.4 53.1 61.2 55.3 60.7 69.  95.\n",
      " 79.  57.3 58.8 56.1 55.9 57.9 59.9 62.2 58.6 53.2 62.5 56.7 61.4 59.7\n",
      " 52.8 59.2 56.6 61.8 44.  55.5 62.3 59.5 58.3 58.2 51.  51.6 54.3 63.4\n",
      " 58.4 55.4 56.8 59.8 60.6 61.3 62.8 53.3 60.4 57.4 60.2 62.1 73.  50.\n",
      " 59.3 52.4 63.3 61.1 58.7 62.4 61.7]\n",
      "**** x **** --> [ 5.93  4.37  4.3   6.54  5.58  6.15  4.34  5.62  8.17  6.64  6.85  5.6\n",
      "  4.35  5.77  4.47  7.04  4.36  7.08  5.66  4.28  4.38  7.16  6.24  5.19\n",
      "  7.4   6.52  6.34  7.31  5.88  6.89  5.83  5.38  6.42  7.82  4.42  6.1\n",
      "  4.81  3.94  5.17  4.24  4.51  7.91  7.6   4.49  6.45  5.36  4.52  6.01\n",
      "  6.59  6.63  4.39  7.18  4.72  7.14  5.23  4.83  4.76  6.35  5.03  5.71\n",
      "  4.77  5.09  4.55  4.08  6.57  6.3   6.58  4.4   8.08  5.74  4.74  6.43\n",
      "  5.59  5.29  5.12  5.91  4.45  8.43  5.24  7.48  6.02  5.96  4.82  6.9\n",
      "  5.57  8.2   5.54  6.07  6.66  6.6   4.46  4.75  5.64  4.59  5.68  5.63\n",
      "  5.39  5.76  6.79  4.03  7.28  7.47  7.55  5.32  5.9   5.05  4.31  4.5\n",
      "  6.19  6.7   4.88  5.11  5.82  5.73  7.35  8.07  6.67  6.5   5.35  5.7\n",
      "  5.67  4.62  5.46  6.87  5.69  7.41  6.16  8.19  7.25  5.45  6.83  7.72\n",
      "  4.44  6.4   6.8   4.8   6.49  4.25  5.55  6.88  7.38  6.81  8.05  4.9\n",
      "  6.25  6.48  7.74  6.93  6.84  6.14  8.02  4.27  6.55  4.43  6.76  4.6\n",
      "  5.25  5.14  4.04  5.    4.78  7.15  5.18  5.07  8.25  6.21  7.54  6.61\n",
      "  7.27  6.91  4.79  6.28  6.98  4.63  6.82  5.72  7.63  6.96  4.12  6.68\n",
      "  6.22  5.78  7.36  6.37  4.41  6.99  6.44  5.21  5.94  7.44  7.85  6.18\n",
      "  4.11  5.99  5.85  4.05  6.05  4.48  7.23  7.19  5.08  6.2   7.52  7.17\n",
      "  4.58  5.79  5.51  6.33  4.7   6.13  7.01  7.97  5.81  4.98  9.66  5.37\n",
      "  7.26  8.27  3.92  7.24  5.49  7.42  4.69  7.2   4.54  5.1   6.11  6.65\n",
      "  7.67  4.29  7.13  6.39  5.65  7.02  8.22  6.92  4.67  4.64  5.98  8.24\n",
      "  7.51  8.28  4.17  8.15  4.33  4.65  4.84  6.46  5.27  7.62  5.2   6.69\n",
      "  6.31  4.2   4.73  7.39  6.29  8.42  6.06  6.38  4.1   7.43  5.01  7.99\n",
      "  6.    4.61  4.26  7.59  5.28  5.26  5.33  5.3   6.08  4.53  6.03  6.56\n",
      "  5.16  8.45  6.09  5.75  3.97  8.12  4.71  4.96  7.46  7.29  6.53  5.22\n",
      "  7.65  6.04  6.75  6.41  3.91  7.83  4.32  5.06  4.22  4.85  7.58  4.68\n",
      "  7.03  4.66  4.93  4.87  5.8   8.37  8.39  6.86  6.62  5.4   7.32  5.13\n",
      "  6.95  5.52  5.31  5.56  7.94  5.92  5.43  5.53  4.14  6.77  4.56  6.12\n",
      "  7.86  7.61  4.57  4.91  7.49  6.71  4.    4.13  5.04  4.94  5.15  7.53\n",
      "  8.47  7.98  4.92  4.86  7.11  6.51  8.06  7.22  7.79  6.47  9.32  6.36\n",
      "  8.3   4.09  8.01  8.14  5.89  6.26  4.01  4.07  7.9   4.99  6.78  5.97\n",
      "  7.09  8.04  4.06  7.05  5.48  7.78  8.09  8.32  6.97  4.23  7.73  7.1\n",
      "  5.5   5.34  6.23  5.44  5.95  7.81  7.71  7.56  3.9   4.16  5.86  7.34\n",
      "  3.96  8.49  4.21  6.27  4.89  7.07  8.11  4.19  6.94  7.3   3.99  6.74\n",
      "  8.18  6.32  6.73  3.93  7.33  8.26  8.1   7.76  8.69  8.36  5.47  6.17\n",
      "  5.84  5.61  9.11  8.03  8.4   5.42  7.93  7.21  8.74  7.77  6.72  7.\n",
      "  8.63  8.55  8.35  4.95  4.02  7.88  3.89  8.31  7.06  5.87  7.45  4.18\n",
      "  7.37  9.53  3.95  3.88  3.82  8.54  7.57  8.16  5.02  8.6   8.23  7.84\n",
      "  5.41  7.12  0.    9.54  7.5   8.53  7.68  8.46  3.73  8.75  8.29  8.48\n",
      "  8.57  7.89  3.84  7.96  7.8   8.38  7.64  8.    8.58  4.15  8.13  7.7\n",
      "  8.21  4.97  7.87  8.41  8.52  3.81  8.8   3.85  8.56  8.68  8.66  8.51\n",
      "  8.7   3.98  8.33  7.75  8.71  8.5   7.92  7.69  7.66  8.88  8.65  9.42\n",
      "  8.76  9.38 10.    8.99  8.87  8.82  8.67  8.34  7.95  8.61  8.85  9.06\n",
      "  8.44 10.02  3.77  8.64 10.74  9.3   9.44 10.14  3.87  9.04  8.81  9.65\n",
      "  8.83  8.62  8.73  3.86  9.03  8.78 10.01  8.93  9.25  9.51  8.59  8.89\n",
      "  8.9   9.1   9.17  8.72  3.74  3.76  3.83  9.35  9.05  3.79  9.23  8.77\n",
      "  9.49]\n",
      "**** y **** --> [ 5.98  4.32  4.34  6.46  5.62  6.19  4.36  5.59  8.09  6.71  6.91  5.53\n",
      "  5.79  4.5   7.11  4.31  7.05  5.69  4.3   7.21  6.31  5.24  7.3   6.5\n",
      "  6.27  7.37  5.91  6.85  5.81  4.41  5.4   6.36  7.78  4.4   4.86  3.96\n",
      "  5.21  4.27  4.55  7.88  7.67  4.51  6.49  5.33  6.07  6.54  6.59  4.42\n",
      "  7.13  4.68  7.09  4.81  6.39  5.13  5.75  4.71  5.12  4.53  4.11  6.62\n",
      "  6.34  4.47  4.43  8.11  5.8   5.34  5.15  5.97  8.36  5.26  7.43  4.44\n",
      "  6.01  4.58  4.8   6.86  5.6   8.16  5.56  6.11  6.61  5.83  6.55  4.7\n",
      "  5.67  6.52  4.33  4.62  5.7   5.74  5.71  5.43  4.56  5.78  6.83  3.98\n",
      "  7.16  4.78  7.38  7.59  5.36  5.87  5.1   4.28  4.54  6.1   6.74  6.2\n",
      "  6.38  4.91  5.14  5.86  7.08  7.41  6.65  7.32  6.63  6.41  5.38  4.46\n",
      "  4.65  4.35  5.49  7.94  6.72  4.45  7.36  6.22  5.31  7.39  4.39  8.34\n",
      "  7.52  6.88  7.77  6.44  6.76  4.84  6.45  4.29  6.97  6.64  7.35  6.75\n",
      "  5.16  8.    7.7   7.01  6.18  7.84  7.42  6.81  4.59  5.22  5.18  6.51\n",
      "  4.08  6.8   5.05  4.69  4.48  7.23  3.99  5.73  5.09  6.58  7.24  8.2\n",
      "  6.15  8.01  4.76  5.88  6.94  5.96  6.87  5.76  6.3   4.82  5.11  6.92\n",
      "  4.14  6.73  6.26  6.25  5.66  6.33  5.68  7.07  7.44  6.16  5.84  6.48\n",
      "  5.23  6.    5.35  7.5   7.97  6.84  6.04  6.03  7.29  5.27  7.45  7.06\n",
      "  4.25  6.89  4.74  7.04  7.87  5.    9.63  5.42  4.49  5.46  8.23  5.51\n",
      "  6.67  7.48  4.72  4.85  7.17  8.39  6.69  7.62  5.72  5.04  4.77  5.07\n",
      "  4.37  6.68  6.47  6.35  4.63  7.14  6.96  4.64  4.52  4.67  5.92  6.17\n",
      "  8.31  4.21  8.22  5.28  7.58  8.27  5.29  7.47  7.63  6.6   7.28  8.38\n",
      "  6.12  6.43  4.66  4.12  4.73  4.98  5.85  8.12  6.09  4.38  7.49  4.57\n",
      "  6.53  7.54  5.65  4.05  6.4   6.56  5.32  6.13  5.2   8.49  5.3   8.15\n",
      "  7.02  6.57  6.21  6.37  3.93  7.96  6.78  4.79  4.75  5.03  5.82  7.1\n",
      "  4.24  7.93  6.93  4.61  7.31  8.24  4.97  5.45  4.9   5.54  5.17  8.29\n",
      "  8.05  8.33  6.66  4.87  5.06  6.9   7.86  5.61  5.94  5.39  8.21  4.06\n",
      "  5.57  4.26  4.88  7.56  7.25  5.93  6.14  7.46  4.83  4.01  7.6   4.16\n",
      "  7.53  5.47  4.03  4.1   8.5   5.08  4.95  7.15  8.1   7.74  9.19  6.42\n",
      "  7.99  4.6   7.34  6.05  6.29  8.08  6.32  6.23  5.02  8.35  6.99  5.19\n",
      "  4.99  7.2   5.9   5.5   5.52  7.73  6.28 58.9   8.41  7.03  7.64  5.41\n",
      "  5.63  6.79  6.82  5.77  6.24  5.55  5.95  5.25  5.99  7.76  3.94  6.02\n",
      "  4.89  4.02  6.98  8.45  7.4   4.22  5.37  4.92  8.03  7.33  4.94  4.23\n",
      "  6.7   5.89  7.26  8.13  7.61  4.09  7.91  7.19  8.06  3.97  8.17  8.04\n",
      "  4.2   8.76  6.95  5.58  4.    4.96  6.08  9.07  7.95  8.46  4.07  8.7\n",
      "  5.01  8.37  7.79  7.22  8.28  8.56  6.06  8.44  5.44  7.65  7.18  7.8\n",
      "  7.68  5.64  7.81  8.19  3.91  8.02  4.93  7.55  9.48  3.84  3.78  3.95\n",
      "  7.75  8.54  7.72  7.51  8.14  4.18  0.    7.12  8.18  7.82  6.77  9.38\n",
      "  8.57  7.27  8.42  3.71  8.32  8.69  8.52  8.51  4.15  3.8   7.    5.48\n",
      "  7.89  7.9   7.57  8.25  8.07  4.13  4.17  3.9   8.83  3.92  4.19  7.85\n",
      "  8.59  8.55  8.73  7.92  8.48  8.65  8.77  4.04  8.43  8.3   7.98  7.71\n",
      "  8.58  7.69  3.89  7.66  8.6   8.26  3.88  9.26  7.83  8.64  9.31  8.4\n",
      "  9.85  8.61  8.94  8.62  8.47  8.9   8.63  3.86  8.79  9.01  3.77  8.53\n",
      "  9.94  3.72 10.54  9.14  9.37 10.1   8.74  8.98  9.59  8.68  8.87  8.67\n",
      "  8.97  8.89  8.66  8.84  9.2   9.46  8.93  9.13  8.82  3.73  3.85  9.22\n",
      "  8.81  9.4   8.78  3.75  9.1   3.81  3.87  9.02  8.85  3.83 31.8   8.88\n",
      "  9.42]\n",
      "**** z **** --> [3.66 2.64 2.69 4.03 3.44 3.84 2.71 3.62 5.08 4.09 4.12 3.46 2.66 3.54\n",
      " 2.75 4.31 2.68 4.29 3.55 2.6  2.67 4.44 3.97 3.09 4.49 3.99 4.08 4.55\n",
      " 3.61 4.16 3.6  3.31 4.   5.06 2.76 3.87 2.96 2.44 3.13 2.7  5.07 4.68\n",
      " 2.74 3.91 3.36 2.84 4.1  4.69 2.94 3.23 2.99 2.98 3.18 3.5  2.8  2.54\n",
      " 3.79 3.98 3.83 2.73 4.88 4.02 3.21 3.27 3.71 5.26 3.26 4.65 3.7  3.67\n",
      " 3.05 4.24 3.45 3.29 4.94 3.41 3.78 3.56 4.11 3.94 2.83 4.05 2.72 3.49\n",
      " 3.43 2.81 3.57 4.27 2.51 4.52 2.91 4.47 4.62 3.92 3.73 3.2  4.06 3.93\n",
      " 4.22 3.88 3.22 3.52 3.51 4.57 4.91 4.01 3.53 2.87 4.92 4.53 3.76 5.27\n",
      " 4.63 4.23 4.77 4.2  3.   2.63 4.28 3.15 5.03 4.79 4.19 4.61 2.65 4.07\n",
      " 2.85 3.19 4.33 4.46 3.11 2.95 4.39 2.41 4.15 4.13 3.39 4.21 2.97 3.24\n",
      " 5.04 2.78 3.95 5.34 4.42 2.56 3.77 3.47 3.81 4.59 4.04 2.77 3.16 3.12\n",
      " 3.65 3.25 3.89 2.93 4.4  4.48 3.17 4.51 4.43 2.62 2.86 3.48 4.58 3.3\n",
      " 4.37 3.01 3.63 4.36 4.81 3.59 6.03 3.28 2.82 3.35 5.19 2.47 4.66 3.64\n",
      " 4.14 4.71 2.92 3.1  3.37 4.56 3.08 2.9  5.1  4.34 2.79 5.22 4.67 2.55\n",
      " 4.17 3.33 3.86 5.13 3.9  4.18 3.74 4.96 4.76 3.75 3.03 3.72 4.97 4.26\n",
      " 3.82 4.64 5.25 3.06 2.45 4.95 3.85 3.04 3.96 2.48 2.61 4.38 5.14 3.32\n",
      " 3.58 5.   5.6  3.07 4.3  3.68 5.18 3.14 3.8  3.38 4.25 3.42 4.78 5.09\n",
      " 4.99 5.15 5.5  5.05 4.72 5.02 4.7  4.41 4.93 2.58 4.9  2.59 5.12 8.06\n",
      " 4.6  3.02 2.89 4.87 2.53 2.42 4.45 5.01 2.37 3.34 4.89 5.23 5.44 2.46\n",
      " 2.49 5.21 3.69 5.33 4.98 2.52 5.35 5.24 4.74 4.73 5.37 5.11 2.88 3.4\n",
      " 4.5  4.84 2.57 4.75 6.38 4.86 4.54 2.33 4.32 2.34 5.4  5.3  2.35 4.35\n",
      " 4.8  5.2  0.   5.16 2.5  5.31 5.45 2.28 4.83 4.82 4.85 6.16 2.39 2.24\n",
      " 5.36 5.28 5.17 2.38 2.43 5.39 5.41 2.4  5.49 5.54 5.29 2.25 5.43 2.31\n",
      " 5.52 5.58 6.43 1.41 5.46 5.55 5.38 5.77 2.36 6.24 6.98 5.62 6.17 5.51\n",
      " 5.32 5.42 5.53 2.3  5.48 5.47 5.65 2.32 6.31 5.97 5.69 5.67 5.9  5.61\n",
      " 1.53 5.76 5.64 2.26 5.85 5.86 2.27 5.91 5.56 2.06 2.29 5.92]\n",
      "**** price **** --> [ 3446   732   475 ...  7353 17096  5651]\n"
     ]
    },
    {
     "name": "stdout",
     "output_type": "stream",
     "text": [
      "**** carat **** --> [0.78 0.31 0.3  1.04 0.65 0.9  0.71 2.05 1.1  1.19 0.33 1.3  1.29 0.69\n",
      " 0.28 1.4  1.01 0.5  1.5  1.03 1.51 0.76 1.21 0.74 0.32 0.59 1.02 2.01\n",
      " 0.91 0.43 0.23 0.52 0.34 2.   1.7  0.35 0.8  0.4  1.32 0.54 0.42 1.\n",
      " 0.41 0.51 0.26 0.93 1.07 0.7  0.55 0.82 2.28 1.56 0.79 1.24 0.57 2.02\n",
      " 0.63 0.72 1.09 1.06 0.36 0.61 0.25 1.45 1.52 1.6  0.56 1.05 1.2  1.31\n",
      " 1.11 0.77 0.38 1.13 1.53 2.31 1.61 1.75 1.18 0.64 1.12 1.22 1.76 1.25\n",
      " 1.17 1.71 1.14 0.37 1.27 0.48 1.44 0.73 1.23 0.53 1.33 0.27 1.54 0.62\n",
      " 1.41 1.43 1.35 0.29 1.84 3.51 2.21 0.46 1.59 2.11 1.26 2.08 2.23 2.12\n",
      " 2.09 0.39 0.92 1.16 1.64 0.83 2.35 0.44 0.49 1.63 0.58 2.32 1.57 1.74\n",
      " 1.15 1.82 1.34 2.15 2.52 1.72 2.03 2.18 1.95 0.24 0.75 0.45 2.25 1.66\n",
      " 0.85 1.62 0.47 0.81 2.2  3.   1.58 0.89 2.24 1.65 1.28 1.38 0.6  1.83\n",
      " 1.73 0.66 0.96 1.79 2.04 0.95 2.1  0.84 1.08 1.55 0.99 0.94 2.06 0.87\n",
      " 2.19 2.51 2.68 0.67 2.44 0.97 2.26 0.98 1.46 2.07 3.65 0.22 0.21 2.53\n",
      " 2.29 1.86 1.37 2.13 2.14 1.9  3.01 2.39 2.27 1.39 0.2  2.54 0.68 2.17\n",
      " 2.41 1.42 1.36 1.81 1.96 1.78 1.69 2.22 1.48 2.33 1.67 0.86 1.49 2.55\n",
      " 2.43 2.66 1.89 1.98 1.8  0.88 1.97 2.48 1.88 2.64 2.16 1.68 1.91 2.3\n",
      " 2.67 4.13 2.5  2.57 1.77 2.74 2.37 2.45 2.38 1.93 2.61 2.46 2.6  2.47\n",
      " 2.42 1.87 4.01 1.99 2.36 5.01 1.85 2.75 1.47 3.5  2.4  2.8  4.   2.49\n",
      " 1.94 3.04 2.34 2.72 3.24 2.56 2.59 3.02 2.77 1.92 2.63 3.22]\n",
      "**** cut **** --> ['Premium' 'Ideal' 'Very Good' 'Fair' 'Good']\n",
      "**** color **** --> ['F' 'D' 'E' 'J' 'H' 'I' 'G']\n",
      "**** clarity **** --> ['VS1' 'SI1' 'VVS2' 'SI2' 'VS2' 'IF' 'VVS1' 'I1']\n",
      "**** depth **** --> [61.5 60.8 62.3 62.  61.4 62.2 64.6 62.4 61.3 59.9 61.2 60.9 61.8 60.7\n",
      " 60.6 63.3 59.3 61.1 64.7 61.9 62.6 64.9 63.  60.3 63.5 64.2 60.4 62.9\n",
      " 62.5 65.5 61.7 57.3 62.1 60.  63.7 62.7 63.4 61.6 63.1 62.8 60.2 61.\n",
      " 66.1 59.8 59.6 60.1 58.1 60.5 63.8 58.7 67.5 58.9 70.2 63.6 65.  58.2\n",
      " 58.5 64.1 63.2 59.5 65.3 66.9 58.4 59.4 66.8 64.  57.8 57.9 65.4 59.\n",
      " 59.2 59.1 57.2 58.8 63.9 66.5 59.7 57.4 58.  65.7 57.7 66.3 55.8 65.8\n",
      " 56.9 64.3 64.8 56.1 65.1 64.4 58.3 58.6 66.  65.2 66.2 64.5 56.7 57.1\n",
      " 54.7 57.  68.6 67.1 69.1 57.6 57.5 53.  69.3 68.3 69.5 66.6 68.9 55.9\n",
      " 66.7 67.3 65.9 67.2 56.2 55.3 65.6 56.  56.3 66.4 53.2 67.7 68.7 68.5\n",
      " 56.4 55.5 67.8 69.6 56.6 69.  56.8 68.8 52.7 69.4 68.1 67.9 53.1 72.2\n",
      " 67.6 55.1 53.4 68.4 52.3 55.2 70.1 67.  68.  69.8 67.4 43.  71.  70.6\n",
      " 54.4 55.4 54.2 70.8 56.5 51.  70.5 68.2 69.2 44.  53.8 71.6 53.3 52.2\n",
      " 69.7 70.  71.8 55.  55.6 79.  78.2 69.9 54.  50.8]\n",
      "**** table **** --> [58.  56.  54.  55.  60.  59.  57.  61.  52.  53.  62.  55.2 54.6 63.\n",
      " 64.  54.1 53.7 66.  65.  67.  54.2 55.7 54.5 61.5 53.9 56.3 58.5 43.\n",
      " 57.7 60.5 60.9 54.7 53.8 59.6 61.9 55.8 58.1 57.5 57.2 54.9 55.6 55.1\n",
      " 53.4 57.6 49.  60.3 53.5 54.8 53.6 60.8 59.4 57.8 60.1 70.  54.4 68.\n",
      " 56.9 76.  56.2 59.1 57.1 56.5 58.9 56.4 53.1 61.2 55.3 60.7 69.  95.\n",
      " 79.  57.3 58.8 56.1 55.9 57.9 59.9 62.2 58.6 53.2 62.5 56.7 61.4 59.7\n",
      " 52.8 59.2 56.6 61.8 44.  55.5 62.3 59.5 58.3 58.2 51.  51.6 54.3 63.4\n",
      " 58.4 55.4 56.8 59.8 60.6 61.3 62.8 53.3 60.4 57.4 60.2 62.1 73.  50.\n",
      " 59.3 52.4 63.3 61.1 58.7 62.4 61.7]\n",
      "**** x **** --> [ 5.93  4.37  4.3   6.54  5.58  6.15  4.34  5.62  8.17  6.64  6.85  5.6\n",
      "  4.35  5.77  4.47  7.04  4.36  7.08  5.66  4.28  4.38  7.16  6.24  5.19\n",
      "  7.4   6.52  6.34  7.31  5.88  6.89  5.83  5.38  6.42  7.82  4.42  6.1\n",
      "  4.81  3.94  5.17  4.24  4.51  7.91  7.6   4.49  6.45  5.36  4.52  6.01\n",
      "  6.59  6.63  4.39  7.18  4.72  7.14  5.23  4.83  4.76  6.35  5.03  5.71\n",
      "  4.77  5.09  4.55  4.08  6.57  6.3   6.58  4.4   8.08  5.74  4.74  6.43\n",
      "  5.59  5.29  5.12  5.91  4.45  8.43  5.24  7.48  6.02  5.96  4.82  6.9\n",
      "  5.57  8.2   5.54  6.07  6.66  6.6   4.46  4.75  5.64  4.59  5.68  5.63\n",
      "  5.39  5.76  6.79  4.03  7.28  7.47  7.55  5.32  5.9   5.05  4.31  4.5\n",
      "  6.19  6.7   4.88  5.11  5.82  5.73  7.35  8.07  6.67  6.5   5.35  5.7\n",
      "  5.67  4.62  5.46  6.87  5.69  7.41  6.16  8.19  7.25  5.45  6.83  7.72\n",
      "  4.44  6.4   6.8   4.8   6.49  4.25  5.55  6.88  7.38  6.81  8.05  4.9\n",
      "  6.25  6.48  7.74  6.93  6.84  6.14  8.02  4.27  6.55  4.43  6.76  4.6\n",
      "  5.25  5.14  4.04  5.    4.78  7.15  5.18  5.07  8.25  6.21  7.54  6.61\n",
      "  7.27  6.91  4.79  6.28  6.98  4.63  6.82  5.72  7.63  6.96  4.12  6.68\n",
      "  6.22  5.78  7.36  6.37  4.41  6.99  6.44  5.21  5.94  7.44  7.85  6.18\n",
      "  4.11  5.99  5.85  4.05  6.05  4.48  7.23  7.19  5.08  6.2   7.52  7.17\n",
      "  4.58  5.79  5.51  6.33  4.7   6.13  7.01  7.97  5.81  4.98  9.66  5.37\n",
      "  7.26  8.27  3.92  7.24  5.49  7.42  4.69  7.2   4.54  5.1   6.11  6.65\n",
      "  7.67  4.29  7.13  6.39  5.65  7.02  8.22  6.92  4.67  4.64  5.98  8.24\n",
      "  7.51  8.28  4.17  8.15  4.33  4.65  4.84  6.46  5.27  7.62  5.2   6.69\n",
      "  6.31  4.2   4.73  7.39  6.29  8.42  6.06  6.38  4.1   7.43  5.01  7.99\n",
      "  6.    4.61  4.26  7.59  5.28  5.26  5.33  5.3   6.08  4.53  6.03  6.56\n",
      "  5.16  8.45  6.09  5.75  3.97  8.12  4.71  4.96  7.46  7.29  6.53  5.22\n",
      "  7.65  6.04  6.75  6.41  3.91  7.83  4.32  5.06  4.22  4.85  7.58  4.68\n",
      "  7.03  4.66  4.93  4.87  5.8   8.37  8.39  6.86  6.62  5.4   7.32  5.13\n",
      "  6.95  5.52  5.31  5.56  7.94  5.92  5.43  5.53  4.14  6.77  4.56  6.12\n",
      "  7.86  7.61  4.57  4.91  7.49  6.71  4.    4.13  5.04  4.94  5.15  7.53\n",
      "  8.47  7.98  4.92  4.86  7.11  6.51  8.06  7.22  7.79  6.47  9.32  6.36\n",
      "  8.3   4.09  8.01  8.14  5.89  6.26  4.01  4.07  7.9   4.99  6.78  5.97\n",
      "  7.09  8.04  4.06  7.05  5.48  7.78  8.09  8.32  6.97  4.23  7.73  7.1\n",
      "  5.5   5.34  6.23  5.44  5.95  7.81  7.71  7.56  3.9   4.16  5.86  7.34\n",
      "  3.96  8.49  4.21  6.27  4.89  7.07  8.11  4.19  6.94  7.3   3.99  6.74\n",
      "  8.18  6.32  6.73  3.93  7.33  8.26  8.1   7.76  8.69  8.36  5.47  6.17\n",
      "  5.84  5.61  9.11  8.03  8.4   5.42  7.93  7.21  8.74  7.77  6.72  7.\n",
      "  8.63  8.55  8.35  4.95  4.02  7.88  3.89  8.31  7.06  5.87  7.45  4.18\n",
      "  7.37  9.53  3.95  3.88  3.82  8.54  7.57  8.16  5.02  8.6   8.23  7.84\n",
      "  5.41  7.12  0.    9.54  7.5   8.53  7.68  8.46  3.73  8.75  8.29  8.48\n",
      "  8.57  7.89  3.84  7.96  7.8   8.38  7.64  8.    8.58  4.15  8.13  7.7\n",
      "  8.21  4.97  7.87  8.41  8.52  3.81  8.8   3.85  8.56  8.68  8.66  8.51\n",
      "  8.7   3.98  8.33  7.75  8.71  8.5   7.92  7.69  7.66  8.88  8.65  9.42\n",
      "  8.76  9.38 10.    8.99  8.87  8.82  8.67  8.34  7.95  8.61  8.85  9.06\n",
      "  8.44 10.02  3.77  8.64 10.74  9.3   9.44 10.14  3.87  9.04  8.81  9.65\n",
      "  8.83  8.62  8.73  3.86  9.03  8.78 10.01  8.93  9.25  9.51  8.59  8.89\n",
      "  8.9   9.1   9.17  8.72  3.74  3.76  3.83  9.35  9.05  3.79  9.23  8.77\n",
      "  9.49]\n",
      "**** y **** --> [ 5.98  4.32  4.34  6.46  5.62  6.19  4.36  5.59  8.09  6.71  6.91  5.53\n",
      "  5.79  4.5   7.11  4.31  7.05  5.69  4.3   7.21  6.31  5.24  7.3   6.5\n",
      "  6.27  7.37  5.91  6.85  5.81  4.41  5.4   6.36  7.78  4.4   4.86  3.96\n",
      "  5.21  4.27  4.55  7.88  7.67  4.51  6.49  5.33  6.07  6.54  6.59  4.42\n",
      "  7.13  4.68  7.09  4.81  6.39  5.13  5.75  4.71  5.12  4.53  4.11  6.62\n",
      "  6.34  4.47  4.43  8.11  5.8   5.34  5.15  5.97  8.36  5.26  7.43  4.44\n",
      "  6.01  4.58  4.8   6.86  5.6   8.16  5.56  6.11  6.61  5.83  6.55  4.7\n",
      "  5.67  6.52  4.33  4.62  5.7   5.74  5.71  5.43  4.56  5.78  6.83  3.98\n",
      "  7.16  4.78  7.38  7.59  5.36  5.87  5.1   4.28  4.54  6.1   6.74  6.2\n",
      "  6.38  4.91  5.14  5.86  7.08  7.41  6.65  7.32  6.63  6.41  5.38  4.46\n",
      "  4.65  4.35  5.49  7.94  6.72  4.45  7.36  6.22  5.31  7.39  4.39  8.34\n",
      "  7.52  6.88  7.77  6.44  6.76  4.84  6.45  4.29  6.97  6.64  7.35  6.75\n",
      "  5.16  8.    7.7   7.01  6.18  7.84  7.42  6.81  4.59  5.22  5.18  6.51\n",
      "  4.08  6.8   5.05  4.69  4.48  7.23  3.99  5.73  5.09  6.58  7.24  8.2\n",
      "  6.15  8.01  4.76  5.88  6.94  5.96  6.87  5.76  6.3   4.82  5.11  6.92\n",
      "  4.14  6.73  6.26  6.25  5.66  6.33  5.68  7.07  7.44  6.16  5.84  6.48\n",
      "  5.23  6.    5.35  7.5   7.97  6.84  6.04  6.03  7.29  5.27  7.45  7.06\n",
      "  4.25  6.89  4.74  7.04  7.87  5.    9.63  5.42  4.49  5.46  8.23  5.51\n",
      "  6.67  7.48  4.72  4.85  7.17  8.39  6.69  7.62  5.72  5.04  4.77  5.07\n",
      "  4.37  6.68  6.47  6.35  4.63  7.14  6.96  4.64  4.52  4.67  5.92  6.17\n",
      "  8.31  4.21  8.22  5.28  7.58  8.27  5.29  7.47  7.63  6.6   7.28  8.38\n",
      "  6.12  6.43  4.66  4.12  4.73  4.98  5.85  8.12  6.09  4.38  7.49  4.57\n",
      "  6.53  7.54  5.65  4.05  6.4   6.56  5.32  6.13  5.2   8.49  5.3   8.15\n",
      "  7.02  6.57  6.21  6.37  3.93  7.96  6.78  4.79  4.75  5.03  5.82  7.1\n",
      "  4.24  7.93  6.93  4.61  7.31  8.24  4.97  5.45  4.9   5.54  5.17  8.29\n",
      "  8.05  8.33  6.66  4.87  5.06  6.9   7.86  5.61  5.94  5.39  8.21  4.06\n",
      "  5.57  4.26  4.88  7.56  7.25  5.93  6.14  7.46  4.83  4.01  7.6   4.16\n",
      "  7.53  5.47  4.03  4.1   8.5   5.08  4.95  7.15  8.1   7.74  9.19  6.42\n",
      "  7.99  4.6   7.34  6.05  6.29  8.08  6.32  6.23  5.02  8.35  6.99  5.19\n",
      "  4.99  7.2   5.9   5.5   5.52  7.73  6.28 58.9   8.41  7.03  7.64  5.41\n",
      "  5.63  6.79  6.82  5.77  6.24  5.55  5.95  5.25  5.99  7.76  3.94  6.02\n",
      "  4.89  4.02  6.98  8.45  7.4   4.22  5.37  4.92  8.03  7.33  4.94  4.23\n",
      "  6.7   5.89  7.26  8.13  7.61  4.09  7.91  7.19  8.06  3.97  8.17  8.04\n",
      "  4.2   8.76  6.95  5.58  4.    4.96  6.08  9.07  7.95  8.46  4.07  8.7\n",
      "  5.01  8.37  7.79  7.22  8.28  8.56  6.06  8.44  5.44  7.65  7.18  7.8\n",
      "  7.68  5.64  7.81  8.19  3.91  8.02  4.93  7.55  9.48  3.84  3.78  3.95\n",
      "  7.75  8.54  7.72  7.51  8.14  4.18  0.    7.12  8.18  7.82  6.77  9.38\n",
      "  8.57  7.27  8.42  3.71  8.32  8.69  8.52  8.51  4.15  3.8   7.    5.48\n",
      "  7.89  7.9   7.57  8.25  8.07  4.13  4.17  3.9   8.83  3.92  4.19  7.85\n",
      "  8.59  8.55  8.73  7.92  8.48  8.65  8.77  4.04  8.43  8.3   7.98  7.71\n",
      "  8.58  7.69  3.89  7.66  8.6   8.26  3.88  9.26  7.83  8.64  9.31  8.4\n",
      "  9.85  8.61  8.94  8.62  8.47  8.9   8.63  3.86  8.79  9.01  3.77  8.53\n",
      "  9.94  3.72 10.54  9.14  9.37 10.1   8.74  8.98  9.59  8.68  8.87  8.67\n",
      "  8.97  8.89  8.66  8.84  9.2   9.46  8.93  9.13  8.82  3.73  3.85  9.22\n",
      "  8.81  9.4   8.78  3.75  9.1   3.81  3.87  9.02  8.85  3.83 31.8   8.88\n",
      "  9.42]\n",
      "**** z **** --> [3.66 2.64 2.69 4.03 3.44 3.84 2.71 3.62 5.08 4.09 4.12 3.46 2.66 3.54\n",
      " 2.75 4.31 2.68 4.29 3.55 2.6  2.67 4.44 3.97 3.09 4.49 3.99 4.08 4.55\n",
      " 3.61 4.16 3.6  3.31 4.   5.06 2.76 3.87 2.96 2.44 3.13 2.7  5.07 4.68\n",
      " 2.74 3.91 3.36 2.84 4.1  4.69 2.94 3.23 2.99 2.98 3.18 3.5  2.8  2.54\n",
      " 3.79 3.98 3.83 2.73 4.88 4.02 3.21 3.27 3.71 5.26 3.26 4.65 3.7  3.67\n",
      " 3.05 4.24 3.45 3.29 4.94 3.41 3.78 3.56 4.11 3.94 2.83 4.05 2.72 3.49\n",
      " 3.43 2.81 3.57 4.27 2.51 4.52 2.91 4.47 4.62 3.92 3.73 3.2  4.06 3.93\n",
      " 4.22 3.88 3.22 3.52 3.51 4.57 4.91 4.01 3.53 2.87 4.92 4.53 3.76 5.27\n",
      " 4.63 4.23 4.77 4.2  3.   2.63 4.28 3.15 5.03 4.79 4.19 4.61 2.65 4.07\n",
      " 2.85 3.19 4.33 4.46 3.11 2.95 4.39 2.41 4.15 4.13 3.39 4.21 2.97 3.24\n",
      " 5.04 2.78 3.95 5.34 4.42 2.56 3.77 3.47 3.81 4.59 4.04 2.77 3.16 3.12\n",
      " 3.65 3.25 3.89 2.93 4.4  4.48 3.17 4.51 4.43 2.62 2.86 3.48 4.58 3.3\n",
      " 4.37 3.01 3.63 4.36 4.81 3.59 6.03 3.28 2.82 3.35 5.19 2.47 4.66 3.64\n",
      " 4.14 4.71 2.92 3.1  3.37 4.56 3.08 2.9  5.1  4.34 2.79 5.22 4.67 2.55\n",
      " 4.17 3.33 3.86 5.13 3.9  4.18 3.74 4.96 4.76 3.75 3.03 3.72 4.97 4.26\n",
      " 3.82 4.64 5.25 3.06 2.45 4.95 3.85 3.04 3.96 2.48 2.61 4.38 5.14 3.32\n",
      " 3.58 5.   5.6  3.07 4.3  3.68 5.18 3.14 3.8  3.38 4.25 3.42 4.78 5.09\n",
      " 4.99 5.15 5.5  5.05 4.72 5.02 4.7  4.41 4.93 2.58 4.9  2.59 5.12 8.06\n",
      " 4.6  3.02 2.89 4.87 2.53 2.42 4.45 5.01 2.37 3.34 4.89 5.23 5.44 2.46\n",
      " 2.49 5.21 3.69 5.33 4.98 2.52 5.35 5.24 4.74 4.73 5.37 5.11 2.88 3.4\n",
      " 4.5  4.84 2.57 4.75 6.38 4.86 4.54 2.33 4.32 2.34 5.4  5.3  2.35 4.35\n",
      " 4.8  5.2  0.   5.16 2.5  5.31 5.45 2.28 4.83 4.82 4.85 6.16 2.39 2.24\n",
      " 5.36 5.28 5.17 2.38 2.43 5.39 5.41 2.4  5.49 5.54 5.29 2.25 5.43 2.31\n",
      " 5.52 5.58 6.43 1.41 5.46 5.55 5.38 5.77 2.36 6.24 6.98 5.62 6.17 5.51\n",
      " 5.32 5.42 5.53 2.3  5.48 5.47 5.65 2.32 6.31 5.97 5.69 5.67 5.9  5.61\n",
      " 1.53 5.76 5.64 2.26 5.85 5.86 2.27 5.91 5.56 2.06 2.29 5.92]\n",
      "**** price **** --> [ 3446   732   475 ...  7353 17096  5651]\n"
     ]
    },
    {
     "name": "stdout",
     "output_type": "stream",
     "text": [
      "**** carat **** --> [0.78 0.31 0.3  1.04 0.65 0.9  0.71 2.05 1.1  1.19 0.33 1.3  1.29 0.69\n",
      " 0.28 1.4  1.01 0.5  1.5  1.03 1.51 0.76 1.21 0.74 0.32 0.59 1.02 2.01\n",
      " 0.91 0.43 0.23 0.52 0.34 2.   1.7  0.35 0.8  0.4  1.32 0.54 0.42 1.\n",
      " 0.41 0.51 0.26 0.93 1.07 0.7  0.55 0.82 2.28 1.56 0.79 1.24 0.57 2.02\n",
      " 0.63 0.72 1.09 1.06 0.36 0.61 0.25 1.45 1.52 1.6  0.56 1.05 1.2  1.31\n",
      " 1.11 0.77 0.38 1.13 1.53 2.31 1.61 1.75 1.18 0.64 1.12 1.22 1.76 1.25\n",
      " 1.17 1.71 1.14 0.37 1.27 0.48 1.44 0.73 1.23 0.53 1.33 0.27 1.54 0.62\n",
      " 1.41 1.43 1.35 0.29 1.84 3.51 2.21 0.46 1.59 2.11 1.26 2.08 2.23 2.12\n",
      " 2.09 0.39 0.92 1.16 1.64 0.83 2.35 0.44 0.49 1.63 0.58 2.32 1.57 1.74\n",
      " 1.15 1.82 1.34 2.15 2.52 1.72 2.03 2.18 1.95 0.24 0.75 0.45 2.25 1.66\n",
      " 0.85 1.62 0.47 0.81 2.2  3.   1.58 0.89 2.24 1.65 1.28 1.38 0.6  1.83\n",
      " 1.73 0.66 0.96 1.79 2.04 0.95 2.1  0.84 1.08 1.55 0.99 0.94 2.06 0.87\n",
      " 2.19 2.51 2.68 0.67 2.44 0.97 2.26 0.98 1.46 2.07 3.65 0.22 0.21 2.53\n",
      " 2.29 1.86 1.37 2.13 2.14 1.9  3.01 2.39 2.27 1.39 0.2  2.54 0.68 2.17\n",
      " 2.41 1.42 1.36 1.81 1.96 1.78 1.69 2.22 1.48 2.33 1.67 0.86 1.49 2.55\n",
      " 2.43 2.66 1.89 1.98 1.8  0.88 1.97 2.48 1.88 2.64 2.16 1.68 1.91 2.3\n",
      " 2.67 4.13 2.5  2.57 1.77 2.74 2.37 2.45 2.38 1.93 2.61 2.46 2.6  2.47\n",
      " 2.42 1.87 4.01 1.99 2.36 5.01 1.85 2.75 1.47 3.5  2.4  2.8  4.   2.49\n",
      " 1.94 3.04 2.34 2.72 3.24 2.56 2.59 3.02 2.77 1.92 2.63 3.22]\n",
      "**** cut **** --> ['Premium' 'Ideal' 'Very Good' 'Fair' 'Good']\n",
      "**** color **** --> ['F' 'D' 'E' 'J' 'H' 'I' 'G']\n",
      "**** clarity **** --> ['VS1' 'SI1' 'VVS2' 'SI2' 'VS2' 'IF' 'VVS1' 'I1']\n",
      "**** depth **** --> [61.5 60.8 62.3 62.  61.4 62.2 64.6 62.4 61.3 59.9 61.2 60.9 61.8 60.7\n",
      " 60.6 63.3 59.3 61.1 64.7 61.9 62.6 64.9 63.  60.3 63.5 64.2 60.4 62.9\n",
      " 62.5 65.5 61.7 57.3 62.1 60.  63.7 62.7 63.4 61.6 63.1 62.8 60.2 61.\n",
      " 66.1 59.8 59.6 60.1 58.1 60.5 63.8 58.7 67.5 58.9 70.2 63.6 65.  58.2\n",
      " 58.5 64.1 63.2 59.5 65.3 66.9 58.4 59.4 66.8 64.  57.8 57.9 65.4 59.\n",
      " 59.2 59.1 57.2 58.8 63.9 66.5 59.7 57.4 58.  65.7 57.7 66.3 55.8 65.8\n",
      " 56.9 64.3 64.8 56.1 65.1 64.4 58.3 58.6 66.  65.2 66.2 64.5 56.7 57.1\n",
      " 54.7 57.  68.6 67.1 69.1 57.6 57.5 53.  69.3 68.3 69.5 66.6 68.9 55.9\n",
      " 66.7 67.3 65.9 67.2 56.2 55.3 65.6 56.  56.3 66.4 53.2 67.7 68.7 68.5\n",
      " 56.4 55.5 67.8 69.6 56.6 69.  56.8 68.8 52.7 69.4 68.1 67.9 53.1 72.2\n",
      " 67.6 55.1 53.4 68.4 52.3 55.2 70.1 67.  68.  69.8 67.4 43.  71.  70.6\n",
      " 54.4 55.4 54.2 70.8 56.5 51.  70.5 68.2 69.2 44.  53.8 71.6 53.3 52.2\n",
      " 69.7 70.  71.8 55.  55.6 79.  78.2 69.9 54.  50.8]\n",
      "**** table **** --> [58.  56.  54.  55.  60.  59.  57.  61.  52.  53.  62.  55.2 54.6 63.\n",
      " 64.  54.1 53.7 66.  65.  67.  54.2 55.7 54.5 61.5 53.9 56.3 58.5 43.\n",
      " 57.7 60.5 60.9 54.7 53.8 59.6 61.9 55.8 58.1 57.5 57.2 54.9 55.6 55.1\n",
      " 53.4 57.6 49.  60.3 53.5 54.8 53.6 60.8 59.4 57.8 60.1 70.  54.4 68.\n",
      " 56.9 76.  56.2 59.1 57.1 56.5 58.9 56.4 53.1 61.2 55.3 60.7 69.  95.\n",
      " 79.  57.3 58.8 56.1 55.9 57.9 59.9 62.2 58.6 53.2 62.5 56.7 61.4 59.7\n",
      " 52.8 59.2 56.6 61.8 44.  55.5 62.3 59.5 58.3 58.2 51.  51.6 54.3 63.4\n",
      " 58.4 55.4 56.8 59.8 60.6 61.3 62.8 53.3 60.4 57.4 60.2 62.1 73.  50.\n",
      " 59.3 52.4 63.3 61.1 58.7 62.4 61.7]\n",
      "**** x **** --> [ 5.93  4.37  4.3   6.54  5.58  6.15  4.34  5.62  8.17  6.64  6.85  5.6\n",
      "  4.35  5.77  4.47  7.04  4.36  7.08  5.66  4.28  4.38  7.16  6.24  5.19\n",
      "  7.4   6.52  6.34  7.31  5.88  6.89  5.83  5.38  6.42  7.82  4.42  6.1\n",
      "  4.81  3.94  5.17  4.24  4.51  7.91  7.6   4.49  6.45  5.36  4.52  6.01\n",
      "  6.59  6.63  4.39  7.18  4.72  7.14  5.23  4.83  4.76  6.35  5.03  5.71\n",
      "  4.77  5.09  4.55  4.08  6.57  6.3   6.58  4.4   8.08  5.74  4.74  6.43\n",
      "  5.59  5.29  5.12  5.91  4.45  8.43  5.24  7.48  6.02  5.96  4.82  6.9\n",
      "  5.57  8.2   5.54  6.07  6.66  6.6   4.46  4.75  5.64  4.59  5.68  5.63\n",
      "  5.39  5.76  6.79  4.03  7.28  7.47  7.55  5.32  5.9   5.05  4.31  4.5\n",
      "  6.19  6.7   4.88  5.11  5.82  5.73  7.35  8.07  6.67  6.5   5.35  5.7\n",
      "  5.67  4.62  5.46  6.87  5.69  7.41  6.16  8.19  7.25  5.45  6.83  7.72\n",
      "  4.44  6.4   6.8   4.8   6.49  4.25  5.55  6.88  7.38  6.81  8.05  4.9\n",
      "  6.25  6.48  7.74  6.93  6.84  6.14  8.02  4.27  6.55  4.43  6.76  4.6\n",
      "  5.25  5.14  4.04  5.    4.78  7.15  5.18  5.07  8.25  6.21  7.54  6.61\n",
      "  7.27  6.91  4.79  6.28  6.98  4.63  6.82  5.72  7.63  6.96  4.12  6.68\n",
      "  6.22  5.78  7.36  6.37  4.41  6.99  6.44  5.21  5.94  7.44  7.85  6.18\n",
      "  4.11  5.99  5.85  4.05  6.05  4.48  7.23  7.19  5.08  6.2   7.52  7.17\n",
      "  4.58  5.79  5.51  6.33  4.7   6.13  7.01  7.97  5.81  4.98  9.66  5.37\n",
      "  7.26  8.27  3.92  7.24  5.49  7.42  4.69  7.2   4.54  5.1   6.11  6.65\n",
      "  7.67  4.29  7.13  6.39  5.65  7.02  8.22  6.92  4.67  4.64  5.98  8.24\n",
      "  7.51  8.28  4.17  8.15  4.33  4.65  4.84  6.46  5.27  7.62  5.2   6.69\n",
      "  6.31  4.2   4.73  7.39  6.29  8.42  6.06  6.38  4.1   7.43  5.01  7.99\n",
      "  6.    4.61  4.26  7.59  5.28  5.26  5.33  5.3   6.08  4.53  6.03  6.56\n",
      "  5.16  8.45  6.09  5.75  3.97  8.12  4.71  4.96  7.46  7.29  6.53  5.22\n",
      "  7.65  6.04  6.75  6.41  3.91  7.83  4.32  5.06  4.22  4.85  7.58  4.68\n",
      "  7.03  4.66  4.93  4.87  5.8   8.37  8.39  6.86  6.62  5.4   7.32  5.13\n",
      "  6.95  5.52  5.31  5.56  7.94  5.92  5.43  5.53  4.14  6.77  4.56  6.12\n",
      "  7.86  7.61  4.57  4.91  7.49  6.71  4.    4.13  5.04  4.94  5.15  7.53\n",
      "  8.47  7.98  4.92  4.86  7.11  6.51  8.06  7.22  7.79  6.47  9.32  6.36\n",
      "  8.3   4.09  8.01  8.14  5.89  6.26  4.01  4.07  7.9   4.99  6.78  5.97\n",
      "  7.09  8.04  4.06  7.05  5.48  7.78  8.09  8.32  6.97  4.23  7.73  7.1\n",
      "  5.5   5.34  6.23  5.44  5.95  7.81  7.71  7.56  3.9   4.16  5.86  7.34\n",
      "  3.96  8.49  4.21  6.27  4.89  7.07  8.11  4.19  6.94  7.3   3.99  6.74\n",
      "  8.18  6.32  6.73  3.93  7.33  8.26  8.1   7.76  8.69  8.36  5.47  6.17\n",
      "  5.84  5.61  9.11  8.03  8.4   5.42  7.93  7.21  8.74  7.77  6.72  7.\n",
      "  8.63  8.55  8.35  4.95  4.02  7.88  3.89  8.31  7.06  5.87  7.45  4.18\n",
      "  7.37  9.53  3.95  3.88  3.82  8.54  7.57  8.16  5.02  8.6   8.23  7.84\n",
      "  5.41  7.12  0.    9.54  7.5   8.53  7.68  8.46  3.73  8.75  8.29  8.48\n",
      "  8.57  7.89  3.84  7.96  7.8   8.38  7.64  8.    8.58  4.15  8.13  7.7\n",
      "  8.21  4.97  7.87  8.41  8.52  3.81  8.8   3.85  8.56  8.68  8.66  8.51\n",
      "  8.7   3.98  8.33  7.75  8.71  8.5   7.92  7.69  7.66  8.88  8.65  9.42\n",
      "  8.76  9.38 10.    8.99  8.87  8.82  8.67  8.34  7.95  8.61  8.85  9.06\n",
      "  8.44 10.02  3.77  8.64 10.74  9.3   9.44 10.14  3.87  9.04  8.81  9.65\n",
      "  8.83  8.62  8.73  3.86  9.03  8.78 10.01  8.93  9.25  9.51  8.59  8.89\n",
      "  8.9   9.1   9.17  8.72  3.74  3.76  3.83  9.35  9.05  3.79  9.23  8.77\n",
      "  9.49]\n",
      "**** y **** --> [ 5.98  4.32  4.34  6.46  5.62  6.19  4.36  5.59  8.09  6.71  6.91  5.53\n",
      "  5.79  4.5   7.11  4.31  7.05  5.69  4.3   7.21  6.31  5.24  7.3   6.5\n",
      "  6.27  7.37  5.91  6.85  5.81  4.41  5.4   6.36  7.78  4.4   4.86  3.96\n",
      "  5.21  4.27  4.55  7.88  7.67  4.51  6.49  5.33  6.07  6.54  6.59  4.42\n",
      "  7.13  4.68  7.09  4.81  6.39  5.13  5.75  4.71  5.12  4.53  4.11  6.62\n",
      "  6.34  4.47  4.43  8.11  5.8   5.34  5.15  5.97  8.36  5.26  7.43  4.44\n",
      "  6.01  4.58  4.8   6.86  5.6   8.16  5.56  6.11  6.61  5.83  6.55  4.7\n",
      "  5.67  6.52  4.33  4.62  5.7   5.74  5.71  5.43  4.56  5.78  6.83  3.98\n",
      "  7.16  4.78  7.38  7.59  5.36  5.87  5.1   4.28  4.54  6.1   6.74  6.2\n",
      "  6.38  4.91  5.14  5.86  7.08  7.41  6.65  7.32  6.63  6.41  5.38  4.46\n",
      "  4.65  4.35  5.49  7.94  6.72  4.45  7.36  6.22  5.31  7.39  4.39  8.34\n",
      "  7.52  6.88  7.77  6.44  6.76  4.84  6.45  4.29  6.97  6.64  7.35  6.75\n",
      "  5.16  8.    7.7   7.01  6.18  7.84  7.42  6.81  4.59  5.22  5.18  6.51\n",
      "  4.08  6.8   5.05  4.69  4.48  7.23  3.99  5.73  5.09  6.58  7.24  8.2\n",
      "  6.15  8.01  4.76  5.88  6.94  5.96  6.87  5.76  6.3   4.82  5.11  6.92\n",
      "  4.14  6.73  6.26  6.25  5.66  6.33  5.68  7.07  7.44  6.16  5.84  6.48\n",
      "  5.23  6.    5.35  7.5   7.97  6.84  6.04  6.03  7.29  5.27  7.45  7.06\n",
      "  4.25  6.89  4.74  7.04  7.87  5.    9.63  5.42  4.49  5.46  8.23  5.51\n",
      "  6.67  7.48  4.72  4.85  7.17  8.39  6.69  7.62  5.72  5.04  4.77  5.07\n",
      "  4.37  6.68  6.47  6.35  4.63  7.14  6.96  4.64  4.52  4.67  5.92  6.17\n",
      "  8.31  4.21  8.22  5.28  7.58  8.27  5.29  7.47  7.63  6.6   7.28  8.38\n",
      "  6.12  6.43  4.66  4.12  4.73  4.98  5.85  8.12  6.09  4.38  7.49  4.57\n",
      "  6.53  7.54  5.65  4.05  6.4   6.56  5.32  6.13  5.2   8.49  5.3   8.15\n",
      "  7.02  6.57  6.21  6.37  3.93  7.96  6.78  4.79  4.75  5.03  5.82  7.1\n",
      "  4.24  7.93  6.93  4.61  7.31  8.24  4.97  5.45  4.9   5.54  5.17  8.29\n",
      "  8.05  8.33  6.66  4.87  5.06  6.9   7.86  5.61  5.94  5.39  8.21  4.06\n",
      "  5.57  4.26  4.88  7.56  7.25  5.93  6.14  7.46  4.83  4.01  7.6   4.16\n",
      "  7.53  5.47  4.03  4.1   8.5   5.08  4.95  7.15  8.1   7.74  9.19  6.42\n",
      "  7.99  4.6   7.34  6.05  6.29  8.08  6.32  6.23  5.02  8.35  6.99  5.19\n",
      "  4.99  7.2   5.9   5.5   5.52  7.73  6.28 58.9   8.41  7.03  7.64  5.41\n",
      "  5.63  6.79  6.82  5.77  6.24  5.55  5.95  5.25  5.99  7.76  3.94  6.02\n",
      "  4.89  4.02  6.98  8.45  7.4   4.22  5.37  4.92  8.03  7.33  4.94  4.23\n",
      "  6.7   5.89  7.26  8.13  7.61  4.09  7.91  7.19  8.06  3.97  8.17  8.04\n",
      "  4.2   8.76  6.95  5.58  4.    4.96  6.08  9.07  7.95  8.46  4.07  8.7\n",
      "  5.01  8.37  7.79  7.22  8.28  8.56  6.06  8.44  5.44  7.65  7.18  7.8\n",
      "  7.68  5.64  7.81  8.19  3.91  8.02  4.93  7.55  9.48  3.84  3.78  3.95\n",
      "  7.75  8.54  7.72  7.51  8.14  4.18  0.    7.12  8.18  7.82  6.77  9.38\n",
      "  8.57  7.27  8.42  3.71  8.32  8.69  8.52  8.51  4.15  3.8   7.    5.48\n",
      "  7.89  7.9   7.57  8.25  8.07  4.13  4.17  3.9   8.83  3.92  4.19  7.85\n",
      "  8.59  8.55  8.73  7.92  8.48  8.65  8.77  4.04  8.43  8.3   7.98  7.71\n",
      "  8.58  7.69  3.89  7.66  8.6   8.26  3.88  9.26  7.83  8.64  9.31  8.4\n",
      "  9.85  8.61  8.94  8.62  8.47  8.9   8.63  3.86  8.79  9.01  3.77  8.53\n",
      "  9.94  3.72 10.54  9.14  9.37 10.1   8.74  8.98  9.59  8.68  8.87  8.67\n",
      "  8.97  8.89  8.66  8.84  9.2   9.46  8.93  9.13  8.82  3.73  3.85  9.22\n",
      "  8.81  9.4   8.78  3.75  9.1   3.81  3.87  9.02  8.85  3.83 31.8   8.88\n",
      "  9.42]\n",
      "**** z **** --> [3.66 2.64 2.69 4.03 3.44 3.84 2.71 3.62 5.08 4.09 4.12 3.46 2.66 3.54\n",
      " 2.75 4.31 2.68 4.29 3.55 2.6  2.67 4.44 3.97 3.09 4.49 3.99 4.08 4.55\n",
      " 3.61 4.16 3.6  3.31 4.   5.06 2.76 3.87 2.96 2.44 3.13 2.7  5.07 4.68\n",
      " 2.74 3.91 3.36 2.84 4.1  4.69 2.94 3.23 2.99 2.98 3.18 3.5  2.8  2.54\n",
      " 3.79 3.98 3.83 2.73 4.88 4.02 3.21 3.27 3.71 5.26 3.26 4.65 3.7  3.67\n",
      " 3.05 4.24 3.45 3.29 4.94 3.41 3.78 3.56 4.11 3.94 2.83 4.05 2.72 3.49\n",
      " 3.43 2.81 3.57 4.27 2.51 4.52 2.91 4.47 4.62 3.92 3.73 3.2  4.06 3.93\n",
      " 4.22 3.88 3.22 3.52 3.51 4.57 4.91 4.01 3.53 2.87 4.92 4.53 3.76 5.27\n",
      " 4.63 4.23 4.77 4.2  3.   2.63 4.28 3.15 5.03 4.79 4.19 4.61 2.65 4.07\n",
      " 2.85 3.19 4.33 4.46 3.11 2.95 4.39 2.41 4.15 4.13 3.39 4.21 2.97 3.24\n",
      " 5.04 2.78 3.95 5.34 4.42 2.56 3.77 3.47 3.81 4.59 4.04 2.77 3.16 3.12\n",
      " 3.65 3.25 3.89 2.93 4.4  4.48 3.17 4.51 4.43 2.62 2.86 3.48 4.58 3.3\n",
      " 4.37 3.01 3.63 4.36 4.81 3.59 6.03 3.28 2.82 3.35 5.19 2.47 4.66 3.64\n",
      " 4.14 4.71 2.92 3.1  3.37 4.56 3.08 2.9  5.1  4.34 2.79 5.22 4.67 2.55\n",
      " 4.17 3.33 3.86 5.13 3.9  4.18 3.74 4.96 4.76 3.75 3.03 3.72 4.97 4.26\n",
      " 3.82 4.64 5.25 3.06 2.45 4.95 3.85 3.04 3.96 2.48 2.61 4.38 5.14 3.32\n",
      " 3.58 5.   5.6  3.07 4.3  3.68 5.18 3.14 3.8  3.38 4.25 3.42 4.78 5.09\n",
      " 4.99 5.15 5.5  5.05 4.72 5.02 4.7  4.41 4.93 2.58 4.9  2.59 5.12 8.06\n",
      " 4.6  3.02 2.89 4.87 2.53 2.42 4.45 5.01 2.37 3.34 4.89 5.23 5.44 2.46\n",
      " 2.49 5.21 3.69 5.33 4.98 2.52 5.35 5.24 4.74 4.73 5.37 5.11 2.88 3.4\n",
      " 4.5  4.84 2.57 4.75 6.38 4.86 4.54 2.33 4.32 2.34 5.4  5.3  2.35 4.35\n",
      " 4.8  5.2  0.   5.16 2.5  5.31 5.45 2.28 4.83 4.82 4.85 6.16 2.39 2.24\n",
      " 5.36 5.28 5.17 2.38 2.43 5.39 5.41 2.4  5.49 5.54 5.29 2.25 5.43 2.31\n",
      " 5.52 5.58 6.43 1.41 5.46 5.55 5.38 5.77 2.36 6.24 6.98 5.62 6.17 5.51\n",
      " 5.32 5.42 5.53 2.3  5.48 5.47 5.65 2.32 6.31 5.97 5.69 5.67 5.9  5.61\n",
      " 1.53 5.76 5.64 2.26 5.85 5.86 2.27 5.91 5.56 2.06 2.29 5.92]\n",
      "**** price **** --> [ 3446   732   475 ...  7353 17096  5651]\n"
     ]
    }
   ],
   "source": [
    "#Check what are the values that could be \n",
    "for col in training_df.columns:\n",
    "    print(f\"**** {col} **** --> {training_df[col].unique()}\")"
   ]
  },
  {
   "cell_type": "markdown",
   "metadata": {},
   "source": [
    "### CONCLUSIONES\n",
    "\n",
    "Después de ver los valores únicos de cada una de las columnas, se procederá como :\n",
    "\n",
    "- Columna *'cut'*: Cada valor tiene una importancia, por lo que se va a proceder a reemplazar los valores por números.\n",
    "\n",
    "- Columna *'color'*: A priori, ningún color tiene más importancia que otro, por lo que se usará la función get_dummies para conseguir que todos los valores tengan la misma importancia.\n",
    "\n",
    "- Columna *'clarity'*: Cada valor tiene una importancia, por lo que se va a proceder a reemplazar los valores por números."
   ]
  },
  {
   "cell_type": "markdown",
   "metadata": {},
   "source": [
    "#### Columna *'cut'*"
   ]
  },
  {
   "cell_type": "code",
   "execution_count": 8,
   "metadata": {},
   "outputs": [],
   "source": [
    "# List of values from 'cut' column\n",
    "cuts_column=['Fair', 'Good', 'Very Good', 'Premium', 'Ideal']"
   ]
  },
  {
   "cell_type": "code",
   "execution_count": 9,
   "metadata": {},
   "outputs": [
    {
     "name": "stdout",
     "output_type": "stream",
     "text": [
      "The value 'Fair' now is 0\n",
      "The value 'Good' now is 1\n",
      "The value 'Very Good' now is 2\n",
      "The value 'Premium' now is 3\n",
      "The value 'Ideal' now is 4\n",
      "The value 'Fair' now is 0\n",
      "The value 'Good' now is 1\n",
      "The value 'Very Good' now is 2\n",
      "The value 'Premium' now is 3\n",
      "The value 'Ideal' now is 4\n",
      "The value 'Fair' now is 0\n",
      "The value 'Good' now is 1\n",
      "The value 'Very Good' now is 2\n",
      "The value 'Premium' now is 3\n",
      "The value 'Ideal' now is 4\n"
     ]
    }
   ],
   "source": [
    "# Replacing all the values in order to get the importance for each value \n",
    "for x,y in enumerate(cuts_column):\n",
    "    print(f\"The value '{y}' now is {x}\")\n",
    "    training_df['cut'] = training_df['cut'].replace(y, x)"
   ]
  },
  {
   "cell_type": "code",
   "execution_count": 10,
   "metadata": {},
   "outputs": [
    {
     "data": {
      "text/plain": [
       "array([3, 4, 2, 0, 1])"
      ]
     },
     "execution_count": 10,
     "metadata": {},
     "output_type": "execute_result"
    },
    {
     "data": {
      "text/plain": [
       "array([3, 4, 2, 0, 1])"
      ]
     },
     "execution_count": 10,
     "metadata": {},
     "output_type": "execute_result"
    },
    {
     "data": {
      "text/plain": [
       "array([3, 4, 2, 0, 1])"
      ]
     },
     "execution_count": 10,
     "metadata": {},
     "output_type": "execute_result"
    }
   ],
   "source": [
    "training_df['cut'].unique()"
   ]
  },
  {
   "cell_type": "markdown",
   "metadata": {},
   "source": [
    "#### Columna *'clarity'*"
   ]
  },
  {
   "cell_type": "code",
   "execution_count": 11,
   "metadata": {},
   "outputs": [],
   "source": [
    "# List of values from 'clarity' column\n",
    "# clarity: a measurement of how clear the diamond is (I1 (worst), SI2, SI1, VS2, VS1, VVS2, VVS1, IF (best))\n",
    "clarity_column = ['I1', 'SI2', 'SI1', 'VS2', 'VS1', 'VVS2', 'VVS1', 'IF']"
   ]
  },
  {
   "cell_type": "code",
   "execution_count": 12,
   "metadata": {},
   "outputs": [
    {
     "name": "stdout",
     "output_type": "stream",
     "text": [
      "The value 'I1' now is 0\n",
      "The value 'SI2' now is 1\n",
      "The value 'SI1' now is 2\n",
      "The value 'VS2' now is 3\n",
      "The value 'VS1' now is 4\n",
      "The value 'VVS2' now is 5\n",
      "The value 'VVS1' now is 6\n",
      "The value 'IF' now is 7\n",
      "The value 'I1' now is 0\n",
      "The value 'SI2' now is 1\n",
      "The value 'SI1' now is 2\n",
      "The value 'VS2' now is 3\n",
      "The value 'VS1' now is 4\n",
      "The value 'VVS2' now is 5\n",
      "The value 'VVS1' now is 6\n",
      "The value 'IF' now is 7\n",
      "The value 'I1' now is 0\n",
      "The value 'SI2' now is 1\n",
      "The value 'SI1' now is 2\n",
      "The value 'VS2' now is 3\n",
      "The value 'VS1' now is 4\n",
      "The value 'VVS2' now is 5\n",
      "The value 'VVS1' now is 6\n",
      "The value 'IF' now is 7\n"
     ]
    }
   ],
   "source": [
    "# Replacing all the values in order to get the importance for each value \n",
    "for x,y in enumerate(clarity_column):\n",
    "    print(f\"The value '{y}' now is {x}\")\n",
    "    training_df['clarity'] = training_df['clarity'].replace(y, x)"
   ]
  },
  {
   "cell_type": "code",
   "execution_count": 13,
   "metadata": {},
   "outputs": [
    {
     "data": {
      "text/plain": [
       "array([4, 2, 5, 1, 3, 7, 6, 0])"
      ]
     },
     "execution_count": 13,
     "metadata": {},
     "output_type": "execute_result"
    },
    {
     "data": {
      "text/plain": [
       "array([4, 2, 5, 1, 3, 7, 6, 0])"
      ]
     },
     "execution_count": 13,
     "metadata": {},
     "output_type": "execute_result"
    },
    {
     "data": {
      "text/plain": [
       "array([4, 2, 5, 1, 3, 7, 6, 0])"
      ]
     },
     "execution_count": 13,
     "metadata": {},
     "output_type": "execute_result"
    }
   ],
   "source": [
    "training_df['clarity'].unique()"
   ]
  },
  {
   "cell_type": "markdown",
   "metadata": {},
   "source": [
    "#### Columna *'color'*"
   ]
  },
  {
   "cell_type": "code",
   "execution_count": 14,
   "metadata": {},
   "outputs": [],
   "source": [
    "# Replacing all the values in order to get the importance for each value \n",
    "color_column = ['J','I','H','G','F','E','D']"
   ]
  },
  {
   "cell_type": "code",
   "execution_count": 15,
   "metadata": {},
   "outputs": [
    {
     "name": "stdout",
     "output_type": "stream",
     "text": [
      "The value 'J' now is 0\n",
      "The value 'I' now is 1\n",
      "The value 'H' now is 2\n",
      "The value 'G' now is 3\n",
      "The value 'F' now is 4\n",
      "The value 'E' now is 5\n",
      "The value 'D' now is 6\n",
      "The value 'J' now is 0\n",
      "The value 'I' now is 1\n",
      "The value 'H' now is 2\n",
      "The value 'G' now is 3\n",
      "The value 'F' now is 4\n",
      "The value 'E' now is 5\n",
      "The value 'D' now is 6\n",
      "The value 'J' now is 0\n",
      "The value 'I' now is 1\n",
      "The value 'H' now is 2\n",
      "The value 'G' now is 3\n",
      "The value 'F' now is 4\n",
      "The value 'E' now is 5\n",
      "The value 'D' now is 6\n"
     ]
    }
   ],
   "source": [
    "for x,y in enumerate(color_column):\n",
    "    print(f\"The value '{y}' now is {x}\")\n",
    "    training_df['color'] = training_df['color'].replace(y, x)"
   ]
  },
  {
   "cell_type": "code",
   "execution_count": 16,
   "metadata": {},
   "outputs": [
    {
     "data": {
      "text/plain": [
       "array([4, 6, 5, 0, 2, 1, 3])"
      ]
     },
     "execution_count": 16,
     "metadata": {},
     "output_type": "execute_result"
    },
    {
     "data": {
      "text/plain": [
       "array([4, 6, 5, 0, 2, 1, 3])"
      ]
     },
     "execution_count": 16,
     "metadata": {},
     "output_type": "execute_result"
    },
    {
     "data": {
      "text/plain": [
       "array([4, 6, 5, 0, 2, 1, 3])"
      ]
     },
     "execution_count": 16,
     "metadata": {},
     "output_type": "execute_result"
    }
   ],
   "source": [
    "training_df['color'].unique()"
   ]
  },
  {
   "cell_type": "code",
   "execution_count": 17,
   "metadata": {},
   "outputs": [
    {
     "data": {
      "text/html": [
       "<div>\n",
       "<style scoped>\n",
       "    .dataframe tbody tr th:only-of-type {\n",
       "        vertical-align: middle;\n",
       "    }\n",
       "\n",
       "    .dataframe tbody tr th {\n",
       "        vertical-align: top;\n",
       "    }\n",
       "\n",
       "    .dataframe thead th {\n",
       "        text-align: right;\n",
       "    }\n",
       "</style>\n",
       "<table border=\"1\" class=\"dataframe\">\n",
       "  <thead>\n",
       "    <tr style=\"text-align: right;\">\n",
       "      <th></th>\n",
       "      <th>carat</th>\n",
       "      <th>cut</th>\n",
       "      <th>color</th>\n",
       "      <th>clarity</th>\n",
       "      <th>depth</th>\n",
       "      <th>table</th>\n",
       "      <th>x</th>\n",
       "      <th>y</th>\n",
       "      <th>z</th>\n",
       "      <th>price</th>\n",
       "    </tr>\n",
       "    <tr>\n",
       "      <th>id</th>\n",
       "      <th></th>\n",
       "      <th></th>\n",
       "      <th></th>\n",
       "      <th></th>\n",
       "      <th></th>\n",
       "      <th></th>\n",
       "      <th></th>\n",
       "      <th></th>\n",
       "      <th></th>\n",
       "      <th></th>\n",
       "    </tr>\n",
       "  </thead>\n",
       "  <tbody>\n",
       "    <tr>\n",
       "      <th>0</th>\n",
       "      <td>0.78</td>\n",
       "      <td>3</td>\n",
       "      <td>4</td>\n",
       "      <td>4</td>\n",
       "      <td>61.5</td>\n",
       "      <td>58.0</td>\n",
       "      <td>5.93</td>\n",
       "      <td>5.98</td>\n",
       "      <td>3.66</td>\n",
       "      <td>3446</td>\n",
       "    </tr>\n",
       "    <tr>\n",
       "      <th>1</th>\n",
       "      <td>0.31</td>\n",
       "      <td>4</td>\n",
       "      <td>6</td>\n",
       "      <td>2</td>\n",
       "      <td>60.8</td>\n",
       "      <td>56.0</td>\n",
       "      <td>4.37</td>\n",
       "      <td>4.32</td>\n",
       "      <td>2.64</td>\n",
       "      <td>732</td>\n",
       "    </tr>\n",
       "    <tr>\n",
       "      <th>2</th>\n",
       "      <td>0.30</td>\n",
       "      <td>4</td>\n",
       "      <td>4</td>\n",
       "      <td>2</td>\n",
       "      <td>62.3</td>\n",
       "      <td>54.0</td>\n",
       "      <td>4.30</td>\n",
       "      <td>4.34</td>\n",
       "      <td>2.69</td>\n",
       "      <td>475</td>\n",
       "    </tr>\n",
       "  </tbody>\n",
       "</table>\n",
       "</div>"
      ],
      "text/plain": [
       "    carat  cut  color  clarity  depth  table     x     y     z  price\n",
       "id                                                                   \n",
       "0    0.78    3      4        4   61.5   58.0  5.93  5.98  3.66   3446\n",
       "1    0.31    4      6        2   60.8   56.0  4.37  4.32  2.64    732\n",
       "2    0.30    4      4        2   62.3   54.0  4.30  4.34  2.69    475"
      ]
     },
     "execution_count": 17,
     "metadata": {},
     "output_type": "execute_result"
    },
    {
     "data": {
      "text/html": [
       "<div>\n",
       "<style scoped>\n",
       "    .dataframe tbody tr th:only-of-type {\n",
       "        vertical-align: middle;\n",
       "    }\n",
       "\n",
       "    .dataframe tbody tr th {\n",
       "        vertical-align: top;\n",
       "    }\n",
       "\n",
       "    .dataframe thead th {\n",
       "        text-align: right;\n",
       "    }\n",
       "</style>\n",
       "<table border=\"1\" class=\"dataframe\">\n",
       "  <thead>\n",
       "    <tr style=\"text-align: right;\">\n",
       "      <th></th>\n",
       "      <th>carat</th>\n",
       "      <th>cut</th>\n",
       "      <th>color</th>\n",
       "      <th>clarity</th>\n",
       "      <th>depth</th>\n",
       "      <th>table</th>\n",
       "      <th>x</th>\n",
       "      <th>y</th>\n",
       "      <th>z</th>\n",
       "      <th>price</th>\n",
       "    </tr>\n",
       "    <tr>\n",
       "      <th>id</th>\n",
       "      <th></th>\n",
       "      <th></th>\n",
       "      <th></th>\n",
       "      <th></th>\n",
       "      <th></th>\n",
       "      <th></th>\n",
       "      <th></th>\n",
       "      <th></th>\n",
       "      <th></th>\n",
       "      <th></th>\n",
       "    </tr>\n",
       "  </thead>\n",
       "  <tbody>\n",
       "    <tr>\n",
       "      <th>0</th>\n",
       "      <td>0.78</td>\n",
       "      <td>3</td>\n",
       "      <td>4</td>\n",
       "      <td>4</td>\n",
       "      <td>61.5</td>\n",
       "      <td>58.0</td>\n",
       "      <td>5.93</td>\n",
       "      <td>5.98</td>\n",
       "      <td>3.66</td>\n",
       "      <td>3446</td>\n",
       "    </tr>\n",
       "    <tr>\n",
       "      <th>1</th>\n",
       "      <td>0.31</td>\n",
       "      <td>4</td>\n",
       "      <td>6</td>\n",
       "      <td>2</td>\n",
       "      <td>60.8</td>\n",
       "      <td>56.0</td>\n",
       "      <td>4.37</td>\n",
       "      <td>4.32</td>\n",
       "      <td>2.64</td>\n",
       "      <td>732</td>\n",
       "    </tr>\n",
       "    <tr>\n",
       "      <th>2</th>\n",
       "      <td>0.30</td>\n",
       "      <td>4</td>\n",
       "      <td>4</td>\n",
       "      <td>2</td>\n",
       "      <td>62.3</td>\n",
       "      <td>54.0</td>\n",
       "      <td>4.30</td>\n",
       "      <td>4.34</td>\n",
       "      <td>2.69</td>\n",
       "      <td>475</td>\n",
       "    </tr>\n",
       "  </tbody>\n",
       "</table>\n",
       "</div>"
      ],
      "text/plain": [
       "    carat  cut  color  clarity  depth  table     x     y     z  price\n",
       "id                                                                   \n",
       "0    0.78    3      4        4   61.5   58.0  5.93  5.98  3.66   3446\n",
       "1    0.31    4      6        2   60.8   56.0  4.37  4.32  2.64    732\n",
       "2    0.30    4      4        2   62.3   54.0  4.30  4.34  2.69    475"
      ]
     },
     "execution_count": 17,
     "metadata": {},
     "output_type": "execute_result"
    },
    {
     "data": {
      "text/html": [
       "<div>\n",
       "<style scoped>\n",
       "    .dataframe tbody tr th:only-of-type {\n",
       "        vertical-align: middle;\n",
       "    }\n",
       "\n",
       "    .dataframe tbody tr th {\n",
       "        vertical-align: top;\n",
       "    }\n",
       "\n",
       "    .dataframe thead th {\n",
       "        text-align: right;\n",
       "    }\n",
       "</style>\n",
       "<table border=\"1\" class=\"dataframe\">\n",
       "  <thead>\n",
       "    <tr style=\"text-align: right;\">\n",
       "      <th></th>\n",
       "      <th>carat</th>\n",
       "      <th>cut</th>\n",
       "      <th>color</th>\n",
       "      <th>clarity</th>\n",
       "      <th>depth</th>\n",
       "      <th>table</th>\n",
       "      <th>x</th>\n",
       "      <th>y</th>\n",
       "      <th>z</th>\n",
       "      <th>price</th>\n",
       "    </tr>\n",
       "    <tr>\n",
       "      <th>id</th>\n",
       "      <th></th>\n",
       "      <th></th>\n",
       "      <th></th>\n",
       "      <th></th>\n",
       "      <th></th>\n",
       "      <th></th>\n",
       "      <th></th>\n",
       "      <th></th>\n",
       "      <th></th>\n",
       "      <th></th>\n",
       "    </tr>\n",
       "  </thead>\n",
       "  <tbody>\n",
       "    <tr>\n",
       "      <th>0</th>\n",
       "      <td>0.78</td>\n",
       "      <td>3</td>\n",
       "      <td>4</td>\n",
       "      <td>4</td>\n",
       "      <td>61.5</td>\n",
       "      <td>58.0</td>\n",
       "      <td>5.93</td>\n",
       "      <td>5.98</td>\n",
       "      <td>3.66</td>\n",
       "      <td>3446</td>\n",
       "    </tr>\n",
       "    <tr>\n",
       "      <th>1</th>\n",
       "      <td>0.31</td>\n",
       "      <td>4</td>\n",
       "      <td>6</td>\n",
       "      <td>2</td>\n",
       "      <td>60.8</td>\n",
       "      <td>56.0</td>\n",
       "      <td>4.37</td>\n",
       "      <td>4.32</td>\n",
       "      <td>2.64</td>\n",
       "      <td>732</td>\n",
       "    </tr>\n",
       "    <tr>\n",
       "      <th>2</th>\n",
       "      <td>0.30</td>\n",
       "      <td>4</td>\n",
       "      <td>4</td>\n",
       "      <td>2</td>\n",
       "      <td>62.3</td>\n",
       "      <td>54.0</td>\n",
       "      <td>4.30</td>\n",
       "      <td>4.34</td>\n",
       "      <td>2.69</td>\n",
       "      <td>475</td>\n",
       "    </tr>\n",
       "  </tbody>\n",
       "</table>\n",
       "</div>"
      ],
      "text/plain": [
       "    carat  cut  color  clarity  depth  table     x     y     z  price\n",
       "id                                                                   \n",
       "0    0.78    3      4        4   61.5   58.0  5.93  5.98  3.66   3446\n",
       "1    0.31    4      6        2   60.8   56.0  4.37  4.32  2.64    732\n",
       "2    0.30    4      4        2   62.3   54.0  4.30  4.34  2.69    475"
      ]
     },
     "execution_count": 17,
     "metadata": {},
     "output_type": "execute_result"
    }
   ],
   "source": [
    "training_df.head(3)"
   ]
  },
  {
   "cell_type": "markdown",
   "metadata": {},
   "source": [
    "## Cuáles son las columnas con más relación?"
   ]
  },
  {
   "cell_type": "code",
   "execution_count": 18,
   "metadata": {},
   "outputs": [],
   "source": [
    "from string import ascii_letters\n",
    "import numpy as np\n",
    "import seaborn as sns\n",
    "import matplotlib.pyplot as plt"
   ]
  },
  {
   "cell_type": "code",
   "execution_count": 19,
   "metadata": {},
   "outputs": [],
   "source": [
    "corr = training_df.corr()"
   ]
  },
  {
   "cell_type": "code",
   "execution_count": 20,
   "metadata": {},
   "outputs": [],
   "source": [
    "mask = np.triu(np.ones_like(corr, dtype=np.bool))"
   ]
  },
  {
   "cell_type": "code",
   "execution_count": 21,
   "metadata": {},
   "outputs": [
    {
     "data": {
      "image/png": "[encoded data removed]",
      "text/plain": [
       "<Figure size 792x648 with 2 Axes>"
      ]
     },
     "metadata": {
      "needs_background": "light"
     },
     "output_type": "display_data"
    },
    {
     "data": {
      "image/png": "[encoded data removed]",
      "text/plain": [
       "<Figure size 792x648 with 2 Axes>"
      ]
     },
     "metadata": {
      "needs_background": "light"
     },
     "output_type": "display_data"
    },
    {
     "data": {
      "image/png": "[encoded data removed]",
      "text/plain": [
       "<Figure size 792x648 with 2 Axes>"
      ]
     },
     "metadata": {
      "needs_background": "light"
     },
     "output_type": "display_data"
    }
   ],
   "source": [
    "f, ax = plt.subplots(figsize=(11, 9))\n",
    "cmap = sns.diverging_palette(220, 10, as_cmap=True)\n",
    "sns.heatmap(corr, mask=mask, cmap=cmap, vmax=.3, center=0,\n",
    "            square=True, linewidths=.5, cbar_kws={\"shrink\": .5}, annot=True);"
   ]
  },
  {
   "cell_type": "markdown",
   "metadata": {},
   "source": [
    "## Normalizing and Standardizing the data"
   ]
  },
  {
   "cell_type": "code",
   "execution_count": 22,
   "metadata": {},
   "outputs": [],
   "source": [
    "# Original Data\n",
    "X = training_df.drop(columns=[\"price\"])\n",
    "y = training_df['price']"
   ]
  },
  {
   "cell_type": "code",
   "execution_count": 23,
   "metadata": {},
   "outputs": [],
   "source": [
    "# Standarized & Normalized \"X\"\n",
    "pipeline = [StandardScaler()]\n",
    "tr = make_pipeline(*pipeline)\n",
    "Xpr = tr.fit_transform(X)\n",
    "Xpr = pd.DataFrame(Xpr,columns = X.columns)"
   ]
  },
  {
   "cell_type": "code",
   "execution_count": 24,
   "metadata": {},
   "outputs": [
    {
     "name": "stdout",
     "output_type": "stream",
     "text": [
      "(32276, 9) (8069, 9) (32276,) (8069,)\n",
      "(32276, 9) (8069, 9) (32276,) (8069,)\n",
      "(32276, 9) (8069, 9) (32276,) (8069,)\n"
     ]
    }
   ],
   "source": [
    "'''X_train, X_test, y_train, y_test = train_test_split(X, y, test_size=0.2)\n",
    "print(X_train.shape, X_test.shape, y_train.shape, y_test.shape)'''\n",
    "\n",
    "X_train, X_test, y_train, y_test = train_test_split(Xpr, y, test_size=0.2)\n",
    "print(X_train.shape, X_test.shape, y_train.shape, y_test.shape)"
   ]
  },
  {
   "cell_type": "code",
   "execution_count": 25,
   "metadata": {},
   "outputs": [],
   "source": [
    "result = pd.concat([Xpr, y], axis=1, sort=False)"
   ]
  },
  {
   "cell_type": "code",
   "execution_count": 26,
   "metadata": {},
   "outputs": [
    {
     "data": {
      "image/png": "[encoded data removed]",
      "text/plain": [
       "<Figure size 792x648 with 2 Axes>"
      ]
     },
     "metadata": {
      "needs_background": "light"
     },
     "output_type": "display_data"
    },
    {
     "data": {
      "image/png": "[encoded data removed]",
      "text/plain": [
       "<Figure size 792x648 with 2 Axes>"
      ]
     },
     "metadata": {
      "needs_background": "light"
     },
     "output_type": "display_data"
    },
    {
     "data": {
      "image/png": "[encoded data removed]",
      "text/plain": [
       "<Figure size 792x648 with 2 Axes>"
      ]
     },
     "metadata": {
      "needs_background": "light"
     },
     "output_type": "display_data"
    }
   ],
   "source": [
    "corr = result.corr()\n",
    "mask = np.triu(np.ones_like(corr, dtype=np.bool))\n",
    "f, ax = plt.subplots(figsize=(11, 9))\n",
    "cmap = sns.diverging_palette(220, 10, as_cmap=True)\n",
    "sns.heatmap(corr, mask=mask, cmap=cmap, vmax=.3, center=0,\n",
    "            square=True, linewidths=.5, cbar_kws={\"shrink\": .5}, annot=True);"
   ]
  },
  {
   "cell_type": "code",
   "execution_count": 27,
   "metadata": {},
   "outputs": [],
   "source": [
    "X_corr = Xpr[['carat','table','x','y','z']]\n",
    "y_corr = y"
   ]
  },
  {
   "cell_type": "code",
   "execution_count": 28,
   "metadata": {},
   "outputs": [
    {
     "name": "stdout",
     "output_type": "stream",
     "text": [
      "(32276, 5) (8069, 5) (32276,) (8069,)\n",
      "(32276, 5) (8069, 5) (32276,) (8069,)\n",
      "(32276, 5) (8069, 5) (32276,) (8069,)\n"
     ]
    }
   ],
   "source": [
    "X_train, X_test, y_train, y_test = train_test_split(X_corr, y_corr, test_size=0.2)\n",
    "print(X_train.shape, X_test.shape, y_train.shape, y_test.shape)"
   ]
  },
  {
   "cell_type": "markdown",
   "metadata": {},
   "source": [
    "## Using the selector\n",
    "\n",
    "In order to check if the relevant columns are the same:"
   ]
  },
  {
   "cell_type": "code",
   "execution_count": null,
   "metadata": {},
   "outputs": [],
   "source": [
    "rf_reg = RandomForestRegressor(n_estimators=100, max_depth=10, min_samples_leaf=2, random_state=111)\n",
    "selector = RFECV(rf_reg, step=1, cv=5)"
   ]
  },
  {
   "cell_type": "code",
   "execution_count": null,
   "metadata": {},
   "outputs": [],
   "source": [
    "selector.fit(Xpr, y)"
   ]
  },
  {
   "cell_type": "code",
   "execution_count": null,
   "metadata": {},
   "outputs": [],
   "source": [
    "selector.n_features_"
   ]
  },
  {
   "cell_type": "code",
   "execution_count": null,
   "metadata": {},
   "outputs": [],
   "source": [
    "pd.Series(Xpr.columns)[selector.support_.tolist()]"
   ]
  },
  {
   "cell_type": "markdown",
   "metadata": {},
   "source": [
    "####  Model training"
   ]
  },
  {
   "cell_type": "code",
   "execution_count": null,
   "metadata": {},
   "outputs": [],
   "source": [
    "list(training_df.columns)"
   ]
  },
  {
   "cell_type": "code",
   "execution_count": null,
   "metadata": {},
   "outputs": [],
   "source": [
    "X_training = result[['carat','cut','color','clarity']]\n",
    "y_training = result['price']"
   ]
  },
  {
   "cell_type": "code",
   "execution_count": null,
   "metadata": {},
   "outputs": [],
   "source": [
    "X_training"
   ]
  },
  {
   "cell_type": "code",
   "execution_count": null,
   "metadata": {},
   "outputs": [],
   "source": [
    "X_train1, X_test1, y_train1, y_test1 = train_test_split(X_training, y_training, test_size=0.2, random_state=42)"
   ]
  },
  {
   "cell_type": "code",
   "execution_count": null,
   "metadata": {},
   "outputs": [],
   "source": [
    "rf_reg.fit(X_train1, y_train1)"
   ]
  },
  {
   "cell_type": "code",
   "execution_count": null,
   "metadata": {},
   "outputs": [],
   "source": [
    "rf_reg.feature_importances_"
   ]
  },
  {
   "cell_type": "code",
   "execution_count": null,
   "metadata": {},
   "outputs": [],
   "source": [
    "print(rf_reg.score(X_train1, y_train1))\n",
    "print(rf_reg.score(X_test1, y_test1))"
   ]
  },
  {
   "cell_type": "code",
   "execution_count": null,
   "metadata": {},
   "outputs": [],
   "source": [
    "print('METRIC SUMMARY')\n",
    "print('MSE', mean_squared_error(y_test1, rf_reg.predict(X_test1)))\n",
    "print('RMSE', np.sqrt(mean_squared_error(y_test1, rf_reg.predict(X_test1))))\n",
    "print('MSLE', mean_squared_log_error(y_test1, rf_reg.predict(X_test1)))\n",
    "print('MAE', mean_absolute_error(y_test1, rf_reg.predict(X_test1)))\n",
    "print('R2', r2_score(y_test1, rf_reg.predict(X_test1)))"
   ]
  },
  {
   "cell_type": "code",
   "execution_count": null,
   "metadata": {},
   "outputs": [],
   "source": []
  },
  {
   "cell_type": "code",
   "execution_count": null,
   "metadata": {},
   "outputs": [],
   "source": []
  }
 ],
 "metadata": {
  "kernelspec": {
   "display_name": "Python 3",
   "language": "python",
   "name": "python3"
  },
  "language_info": {
   "codemirror_mode": {
    "name": "ipython",
    "version": 3
   },
   "file_extension": ".py",
   "mimetype": "text/x-python",
   "name": "python",
   "nbconvert_exporter": "python",
   "pygments_lexer": "ipython3",
   "version": "3.7.6"
  }
 },
 "nbformat": 4,
 "nbformat_minor": 4
}
